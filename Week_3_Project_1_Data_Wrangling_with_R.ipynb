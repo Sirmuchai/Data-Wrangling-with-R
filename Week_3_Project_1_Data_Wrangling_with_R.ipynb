{
  "nbformat": 4,
  "nbformat_minor": 0,
  "metadata": {
    "colab": {
      "provenance": [],
      "authorship_tag": "ABX9TyOfYOHavuyIsHZ59rpdXsTe",
      "include_colab_link": true
    },
    "kernelspec": {
      "name": "ir",
      "display_name": "R"
    },
    "language_info": {
      "name": "R"
    }
  },
  "cells": [
    {
      "cell_type": "markdown",
      "metadata": {
        "id": "view-in-github",
        "colab_type": "text"
      },
      "source": [
        "<a href=\"https://colab.research.google.com/github/Sirmuchai/Data-Wrangling-with-R/blob/main/Week_3_Project_1_Data_Wrangling_with_R.ipynb\" target=\"_parent\"><img src=\"https://colab.research.google.com/assets/colab-badge.svg\" alt=\"Open In Colab\"/></a>"
      ]
    },
    {
      "cell_type": "markdown",
      "source": [
        "# Data Wrangling with R Project\n",
        "\n",
        "## Background Information\n",
        "MTN Telecom offers mobile and internet services to its customers. These services include phone, multiple lines, internet, online security, online backup, device protection, tech support, and streaming TV and movies. The management would like your assistance in understanding the subscribed customers. Your recommendations informed by your analysis will help them make decisions on effective customer retention programs.\n",
        "\n",
        "## Dataset Information\n",
        "The provided customer data set includes information about:\n",
        "\n",
        "- Customers who left within the last month – the column is called Churn.\n",
        "- The services that each customer has signed up for – phone, multiple lines, internet, online security, online backup, device protection, tech support, and streaming TV and movies.\n",
        "- Customer account information – how long they’ve been a customer, contract, payment method, paperless billing, monthly charges, and total charges.\n",
        "- The demographic information about customers – gender, age range, and if they have partners and dependents.\n",
        "\n",
        "Each row represents a customer, and each column contains the customer’s attributes described on the column Metadata.\n",
        "\n",
        "Dataset URL: https://bit.ly/2ZlpzjF\n",
        "\n",
        "## Problem Statement\n",
        "Read, explore, clean, and analyze the dataset.\n",
        "\n",
        "## Experimental Design\n",
        "\n",
        "- Install and Load Packages\n",
        "- Import Data\n",
        "- Data Understanding\n",
        "- Standardisation\n",
        "- Handle Irrelevant Data\n",
        "- Find and Deal with Duplicates\n",
        "- Find and Handle Missing data\n",
        "- Find and Deal with Outliers"
      ],
      "metadata": {
        "id": "WEv7n9lSTibo"
      }
    },
    {
      "cell_type": "markdown",
      "source": [
        "## Step 1. Install and Load Packages \n",
        "In R, packages are a collection of functions that provide functinalities not given by the R core functionalities. We'll install tidyverse packages which will provide us with packages for performing data manipulation and analysis."
      ],
      "metadata": {
        "id": "alcC8ayyUSkz"
      }
    },
    {
      "cell_type": "code",
      "execution_count": null,
      "metadata": {
        "id": "FmU2dpWmSD4b"
      },
      "outputs": [],
      "source": [
        "# Let's install tidyverse packages in Rstudio\n",
        "#install.packages(\"tidyverse\")"
      ]
    },
    {
      "cell_type": "code",
      "source": [
        "library(tidyverse)"
      ],
      "metadata": {
        "colab": {
          "base_uri": "https://localhost:8080/"
        },
        "id": "boL_fjTaTCrb",
        "outputId": "e131016d-8650-425a-f28a-206f553216d7"
      },
      "execution_count": null,
      "outputs": [
        {
          "output_type": "stream",
          "name": "stderr",
          "text": [
            "Warning message in system(\"timedatectl\", intern = TRUE):\n",
            "“running command 'timedatectl' had status 1”\n",
            "── \u001b[1mAttaching packages\u001b[22m ─────────────────────────────────────── tidyverse 1.3.1 ──\n",
            "\n",
            "\u001b[32m✔\u001b[39m \u001b[34mggplot2\u001b[39m 3.4.0      \u001b[32m✔\u001b[39m \u001b[34mpurrr  \u001b[39m 1.0.1 \n",
            "\u001b[32m✔\u001b[39m \u001b[34mtibble \u001b[39m 3.1.8      \u001b[32m✔\u001b[39m \u001b[34mdplyr  \u001b[39m 1.0.10\n",
            "\u001b[32m✔\u001b[39m \u001b[34mtidyr  \u001b[39m 1.2.1      \u001b[32m✔\u001b[39m \u001b[34mstringr\u001b[39m 1.4.1 \n",
            "\u001b[32m✔\u001b[39m \u001b[34mreadr  \u001b[39m 2.1.3      \u001b[32m✔\u001b[39m \u001b[34mforcats\u001b[39m 0.5.2 \n",
            "\n",
            "── \u001b[1mConflicts\u001b[22m ────────────────────────────────────────── tidyverse_conflicts() ──\n",
            "\u001b[31m✖\u001b[39m \u001b[34mdplyr\u001b[39m::\u001b[32mfilter()\u001b[39m masks \u001b[34mstats\u001b[39m::filter()\n",
            "\u001b[31m✖\u001b[39m \u001b[34mdplyr\u001b[39m::\u001b[32mlag()\u001b[39m    masks \u001b[34mstats\u001b[39m::lag()\n",
            "\n"
          ]
        }
      ]
    },
    {
      "cell_type": "markdown",
      "source": [
        "## Step 2. Import Data\n",
        "\n",
        "To work with a dataset, we need to import it and understand its structure. "
      ],
      "metadata": {
        "id": "jR8QFfd9UrJK"
      }
    },
    {
      "cell_type": "code",
      "source": [
        "customer_df <- read_csv(\"https://bit.ly/2ZlpzjF\")"
      ],
      "metadata": {
        "colab": {
          "base_uri": "https://localhost:8080/"
        },
        "id": "RrIc0OSoUcdF",
        "outputId": "139eb4f6-f5e6-4ec4-aa9d-8440e673a8a7"
      },
      "execution_count": null,
      "outputs": [
        {
          "output_type": "stream",
          "name": "stderr",
          "text": [
            "\u001b[1mRows: \u001b[22m\u001b[34m7050\u001b[39m \u001b[1mColumns: \u001b[22m\u001b[34m21\u001b[39m\n",
            "\u001b[36m──\u001b[39m \u001b[1mColumn specification\u001b[22m \u001b[36m────────────────────────────────────────────────────────\u001b[39m\n",
            "\u001b[1mDelimiter:\u001b[22m \",\"\n",
            "\u001b[31mchr\u001b[39m (17): customerID, GENDER, PARTNER, Dependents, PhoneService, MultipleLin...\n",
            "\u001b[32mdbl\u001b[39m  (4): SeniorCitizen, tenure, MonthlyCharges, TotalCharges\n",
            "\n",
            "\u001b[36mℹ\u001b[39m Use `spec()` to retrieve the full column specification for this data.\n",
            "\u001b[36mℹ\u001b[39m Specify the column types or set `show_col_types = FALSE` to quiet this message.\n"
          ]
        }
      ]
    },
    {
      "cell_type": "markdown",
      "source": [
        "## Step 3. Data Understanding"
      ],
      "metadata": {
        "id": "FbReo24wU7Vc"
      }
    },
    {
      "cell_type": "code",
      "source": [
        "# Preview the first 6 records of the dataset\n",
        "head(customer_df)"
      ],
      "metadata": {
        "colab": {
          "base_uri": "https://localhost:8080/",
          "height": 410
        },
        "id": "ABHPF0gsU3oo",
        "outputId": "0d5e3771-edae-4cdf-dfb7-20fdfb959f0d"
      },
      "execution_count": null,
      "outputs": [
        {
          "output_type": "display_data",
          "data": {
            "text/html": [
              "<table class=\"dataframe\">\n",
              "<caption>A tibble: 6 × 21</caption>\n",
              "<thead>\n",
              "\t<tr><th scope=col>customerID</th><th scope=col>GENDER</th><th scope=col>SeniorCitizen</th><th scope=col>PARTNER</th><th scope=col>Dependents</th><th scope=col>tenure</th><th scope=col>PhoneService</th><th scope=col>MultipleLines</th><th scope=col>InternetService</th><th scope=col>OnlineSecurity</th><th scope=col>⋯</th><th scope=col>DeviceProtection</th><th scope=col>TECHSUPPORT</th><th scope=col>StreamingTV</th><th scope=col>StreamingMovies</th><th scope=col>Contract</th><th scope=col>PaperlessBilling</th><th scope=col>PaymentMethod</th><th scope=col>MonthlyCharges</th><th scope=col>TotalCharges</th><th scope=col>Churn</th></tr>\n",
              "\t<tr><th scope=col>&lt;chr&gt;</th><th scope=col>&lt;chr&gt;</th><th scope=col>&lt;dbl&gt;</th><th scope=col>&lt;chr&gt;</th><th scope=col>&lt;chr&gt;</th><th scope=col>&lt;dbl&gt;</th><th scope=col>&lt;chr&gt;</th><th scope=col>&lt;chr&gt;</th><th scope=col>&lt;chr&gt;</th><th scope=col>&lt;chr&gt;</th><th scope=col>⋯</th><th scope=col>&lt;chr&gt;</th><th scope=col>&lt;chr&gt;</th><th scope=col>&lt;chr&gt;</th><th scope=col>&lt;chr&gt;</th><th scope=col>&lt;chr&gt;</th><th scope=col>&lt;chr&gt;</th><th scope=col>&lt;chr&gt;</th><th scope=col>&lt;dbl&gt;</th><th scope=col>&lt;dbl&gt;</th><th scope=col>&lt;chr&gt;</th></tr>\n",
              "</thead>\n",
              "<tbody>\n",
              "\t<tr><td>7590-VHVEG</td><td>Female</td><td>0</td><td>Yes</td><td>No</td><td> 1</td><td>No </td><td>No phone service</td><td>DSL        </td><td>No </td><td>⋯</td><td>No </td><td>No </td><td>No </td><td>No </td><td>Month-to-month</td><td>Yes</td><td>Electronic check         </td><td>29.85</td><td>  29.85</td><td>No </td></tr>\n",
              "\t<tr><td>5575-GNVDE</td><td>Male  </td><td>0</td><td>No </td><td>No</td><td>34</td><td>Yes</td><td>No              </td><td>DSL        </td><td>Yes</td><td>⋯</td><td>Yes</td><td>No </td><td>No </td><td>No </td><td>One year      </td><td>No </td><td>Mailed check             </td><td>56.95</td><td>1889.50</td><td>No </td></tr>\n",
              "\t<tr><td>3668-QPYBK</td><td>Male  </td><td>0</td><td>No </td><td>No</td><td> 2</td><td>Yes</td><td>No              </td><td>DSL        </td><td>Yes</td><td>⋯</td><td>No </td><td>No </td><td>No </td><td>No </td><td>Month-to-month</td><td>Yes</td><td>Mailed check             </td><td>53.85</td><td> 108.15</td><td>Yes</td></tr>\n",
              "\t<tr><td>7795-CFOCW</td><td>Male  </td><td>0</td><td>No </td><td>No</td><td>45</td><td>No </td><td>No phone service</td><td>DSL        </td><td>Yes</td><td>⋯</td><td>Yes</td><td>Yes</td><td>No </td><td>No </td><td>One year      </td><td>No </td><td>Bank transfer (automatic)</td><td>42.30</td><td>1840.75</td><td>No </td></tr>\n",
              "\t<tr><td>9237-HQITU</td><td>Female</td><td>0</td><td>No </td><td>No</td><td> 2</td><td>Yes</td><td>No              </td><td>Fiber optic</td><td>No </td><td>⋯</td><td>No </td><td>No </td><td>No </td><td>No </td><td>Month-to-month</td><td>Yes</td><td>Electronic check         </td><td>70.70</td><td> 151.65</td><td>Yes</td></tr>\n",
              "\t<tr><td>9305-CDSKC</td><td>Female</td><td>0</td><td>No </td><td>No</td><td> 8</td><td>Yes</td><td>Yes             </td><td>Fiber optic</td><td>No </td><td>⋯</td><td>Yes</td><td>No </td><td>Yes</td><td>Yes</td><td>Month-to-month</td><td>Yes</td><td>Electronic check         </td><td>99.65</td><td> 820.50</td><td>Yes</td></tr>\n",
              "</tbody>\n",
              "</table>\n"
            ],
            "text/markdown": "\nA tibble: 6 × 21\n\n| customerID &lt;chr&gt; | GENDER &lt;chr&gt; | SeniorCitizen &lt;dbl&gt; | PARTNER &lt;chr&gt; | Dependents &lt;chr&gt; | tenure &lt;dbl&gt; | PhoneService &lt;chr&gt; | MultipleLines &lt;chr&gt; | InternetService &lt;chr&gt; | OnlineSecurity &lt;chr&gt; | ⋯ ⋯ | DeviceProtection &lt;chr&gt; | TECHSUPPORT &lt;chr&gt; | StreamingTV &lt;chr&gt; | StreamingMovies &lt;chr&gt; | Contract &lt;chr&gt; | PaperlessBilling &lt;chr&gt; | PaymentMethod &lt;chr&gt; | MonthlyCharges &lt;dbl&gt; | TotalCharges &lt;dbl&gt; | Churn &lt;chr&gt; |\n|---|---|---|---|---|---|---|---|---|---|---|---|---|---|---|---|---|---|---|---|---|\n| 7590-VHVEG | Female | 0 | Yes | No |  1 | No  | No phone service | DSL         | No  | ⋯ | No  | No  | No  | No  | Month-to-month | Yes | Electronic check          | 29.85 |   29.85 | No  |\n| 5575-GNVDE | Male   | 0 | No  | No | 34 | Yes | No               | DSL         | Yes | ⋯ | Yes | No  | No  | No  | One year       | No  | Mailed check              | 56.95 | 1889.50 | No  |\n| 3668-QPYBK | Male   | 0 | No  | No |  2 | Yes | No               | DSL         | Yes | ⋯ | No  | No  | No  | No  | Month-to-month | Yes | Mailed check              | 53.85 |  108.15 | Yes |\n| 7795-CFOCW | Male   | 0 | No  | No | 45 | No  | No phone service | DSL         | Yes | ⋯ | Yes | Yes | No  | No  | One year       | No  | Bank transfer (automatic) | 42.30 | 1840.75 | No  |\n| 9237-HQITU | Female | 0 | No  | No |  2 | Yes | No               | Fiber optic | No  | ⋯ | No  | No  | No  | No  | Month-to-month | Yes | Electronic check          | 70.70 |  151.65 | Yes |\n| 9305-CDSKC | Female | 0 | No  | No |  8 | Yes | Yes              | Fiber optic | No  | ⋯ | Yes | No  | Yes | Yes | Month-to-month | Yes | Electronic check          | 99.65 |  820.50 | Yes |\n\n",
            "text/latex": "A tibble: 6 × 21\n\\begin{tabular}{lllllllllllllllllllll}\n customerID & GENDER & SeniorCitizen & PARTNER & Dependents & tenure & PhoneService & MultipleLines & InternetService & OnlineSecurity & ⋯ & DeviceProtection & TECHSUPPORT & StreamingTV & StreamingMovies & Contract & PaperlessBilling & PaymentMethod & MonthlyCharges & TotalCharges & Churn\\\\\n <chr> & <chr> & <dbl> & <chr> & <chr> & <dbl> & <chr> & <chr> & <chr> & <chr> & ⋯ & <chr> & <chr> & <chr> & <chr> & <chr> & <chr> & <chr> & <dbl> & <dbl> & <chr>\\\\\n\\hline\n\t 7590-VHVEG & Female & 0 & Yes & No &  1 & No  & No phone service & DSL         & No  & ⋯ & No  & No  & No  & No  & Month-to-month & Yes & Electronic check          & 29.85 &   29.85 & No \\\\\n\t 5575-GNVDE & Male   & 0 & No  & No & 34 & Yes & No               & DSL         & Yes & ⋯ & Yes & No  & No  & No  & One year       & No  & Mailed check              & 56.95 & 1889.50 & No \\\\\n\t 3668-QPYBK & Male   & 0 & No  & No &  2 & Yes & No               & DSL         & Yes & ⋯ & No  & No  & No  & No  & Month-to-month & Yes & Mailed check              & 53.85 &  108.15 & Yes\\\\\n\t 7795-CFOCW & Male   & 0 & No  & No & 45 & No  & No phone service & DSL         & Yes & ⋯ & Yes & Yes & No  & No  & One year       & No  & Bank transfer (automatic) & 42.30 & 1840.75 & No \\\\\n\t 9237-HQITU & Female & 0 & No  & No &  2 & Yes & No               & Fiber optic & No  & ⋯ & No  & No  & No  & No  & Month-to-month & Yes & Electronic check          & 70.70 &  151.65 & Yes\\\\\n\t 9305-CDSKC & Female & 0 & No  & No &  8 & Yes & Yes              & Fiber optic & No  & ⋯ & Yes & No  & Yes & Yes & Month-to-month & Yes & Electronic check          & 99.65 &  820.50 & Yes\\\\\n\\end{tabular}\n",
            "text/plain": [
              "  customerID GENDER SeniorCitizen PARTNER Dependents tenure PhoneService\n",
              "1 7590-VHVEG Female 0             Yes     No          1     No          \n",
              "2 5575-GNVDE Male   0             No      No         34     Yes         \n",
              "3 3668-QPYBK Male   0             No      No          2     Yes         \n",
              "4 7795-CFOCW Male   0             No      No         45     No          \n",
              "5 9237-HQITU Female 0             No      No          2     Yes         \n",
              "6 9305-CDSKC Female 0             No      No          8     Yes         \n",
              "  MultipleLines    InternetService OnlineSecurity ⋯ DeviceProtection\n",
              "1 No phone service DSL             No             ⋯ No              \n",
              "2 No               DSL             Yes            ⋯ Yes             \n",
              "3 No               DSL             Yes            ⋯ No              \n",
              "4 No phone service DSL             Yes            ⋯ Yes             \n",
              "5 No               Fiber optic     No             ⋯ No              \n",
              "6 Yes              Fiber optic     No             ⋯ Yes             \n",
              "  TECHSUPPORT StreamingTV StreamingMovies Contract       PaperlessBilling\n",
              "1 No          No          No              Month-to-month Yes             \n",
              "2 No          No          No              One year       No              \n",
              "3 No          No          No              Month-to-month Yes             \n",
              "4 Yes         No          No              One year       No              \n",
              "5 No          No          No              Month-to-month Yes             \n",
              "6 No          Yes         Yes             Month-to-month Yes             \n",
              "  PaymentMethod             MonthlyCharges TotalCharges Churn\n",
              "1 Electronic check          29.85            29.85      No   \n",
              "2 Mailed check              56.95          1889.50      No   \n",
              "3 Mailed check              53.85           108.15      Yes  \n",
              "4 Bank transfer (automatic) 42.30          1840.75      No   \n",
              "5 Electronic check          70.70           151.65      Yes  \n",
              "6 Electronic check          99.65           820.50      Yes  "
            ]
          },
          "metadata": {}
        }
      ]
    },
    {
      "cell_type": "code",
      "source": [
        "# Preview the last 6 records of the dataset\n",
        "tail(customer_df)"
      ],
      "metadata": {
        "colab": {
          "base_uri": "https://localhost:8080/",
          "height": 410
        },
        "id": "-UCJxbA_U-vf",
        "outputId": "5ee0bb55-29a2-4dca-8c25-f6fb60197d7e"
      },
      "execution_count": null,
      "outputs": [
        {
          "output_type": "display_data",
          "data": {
            "text/html": [
              "<table class=\"dataframe\">\n",
              "<caption>A tibble: 6 × 21</caption>\n",
              "<thead>\n",
              "\t<tr><th scope=col>customerID</th><th scope=col>GENDER</th><th scope=col>SeniorCitizen</th><th scope=col>PARTNER</th><th scope=col>Dependents</th><th scope=col>tenure</th><th scope=col>PhoneService</th><th scope=col>MultipleLines</th><th scope=col>InternetService</th><th scope=col>OnlineSecurity</th><th scope=col>⋯</th><th scope=col>DeviceProtection</th><th scope=col>TECHSUPPORT</th><th scope=col>StreamingTV</th><th scope=col>StreamingMovies</th><th scope=col>Contract</th><th scope=col>PaperlessBilling</th><th scope=col>PaymentMethod</th><th scope=col>MonthlyCharges</th><th scope=col>TotalCharges</th><th scope=col>Churn</th></tr>\n",
              "\t<tr><th scope=col>&lt;chr&gt;</th><th scope=col>&lt;chr&gt;</th><th scope=col>&lt;dbl&gt;</th><th scope=col>&lt;chr&gt;</th><th scope=col>&lt;chr&gt;</th><th scope=col>&lt;dbl&gt;</th><th scope=col>&lt;chr&gt;</th><th scope=col>&lt;chr&gt;</th><th scope=col>&lt;chr&gt;</th><th scope=col>&lt;chr&gt;</th><th scope=col>⋯</th><th scope=col>&lt;chr&gt;</th><th scope=col>&lt;chr&gt;</th><th scope=col>&lt;chr&gt;</th><th scope=col>&lt;chr&gt;</th><th scope=col>&lt;chr&gt;</th><th scope=col>&lt;chr&gt;</th><th scope=col>&lt;chr&gt;</th><th scope=col>&lt;dbl&gt;</th><th scope=col>&lt;dbl&gt;</th><th scope=col>&lt;chr&gt;</th></tr>\n",
              "</thead>\n",
              "<tbody>\n",
              "\t<tr><td>2569-WGERO</td><td>Female</td><td>0</td><td>No </td><td>No </td><td>72</td><td>Yes</td><td>No              </td><td>No         </td><td>No internet service</td><td>⋯</td><td>No internet service</td><td>No internet service</td><td>No internet service</td><td>No internet service</td><td>Two year      </td><td>Yes</td><td>Bank transfer (automatic)</td><td> 21.15</td><td>1419.40</td><td>No </td></tr>\n",
              "\t<tr><td>6840-RESVB</td><td>Male  </td><td>0</td><td>Yes</td><td>Yes</td><td>24</td><td>Yes</td><td>Yes             </td><td>DSL        </td><td>Yes                </td><td>⋯</td><td>Yes                </td><td>Yes                </td><td>Yes                </td><td>Yes                </td><td>One year      </td><td>Yes</td><td>Mailed check             </td><td> 84.80</td><td>1990.50</td><td>No </td></tr>\n",
              "\t<tr><td>2234-XADUH</td><td>Female</td><td>0</td><td>Yes</td><td>Yes</td><td>72</td><td>Yes</td><td>Yes             </td><td>Fiber optic</td><td>No                 </td><td>⋯</td><td>Yes                </td><td>No                 </td><td>Yes                </td><td>Yes                </td><td>One year      </td><td>Yes</td><td>Credit card (automatic)  </td><td>103.20</td><td>7362.90</td><td>No </td></tr>\n",
              "\t<tr><td>4801-JZAZL</td><td>Female</td><td>0</td><td>Yes</td><td>Yes</td><td>11</td><td>No </td><td>No phone service</td><td>DSL        </td><td>Yes                </td><td>⋯</td><td>No                 </td><td>No                 </td><td>No                 </td><td>No                 </td><td>Month-to-month</td><td>Yes</td><td>Electronic check         </td><td> 29.60</td><td> 346.45</td><td>No </td></tr>\n",
              "\t<tr><td>8361-LTMKD</td><td>Male  </td><td>1</td><td>Yes</td><td>No </td><td> 4</td><td>Yes</td><td>Yes             </td><td>Fiber optic</td><td>No                 </td><td>⋯</td><td>No                 </td><td>No                 </td><td>No                 </td><td>No                 </td><td>Month-to-month</td><td>Yes</td><td>Mailed check             </td><td> 74.40</td><td> 306.60</td><td>Yes</td></tr>\n",
              "\t<tr><td>3186-AJIEK</td><td>Male  </td><td>0</td><td>No </td><td>No </td><td>66</td><td>Yes</td><td>No              </td><td>Fiber optic</td><td>Yes                </td><td>⋯</td><td>Yes                </td><td>Yes                </td><td>Yes                </td><td>Yes                </td><td>Two year      </td><td>Yes</td><td>Bank transfer (automatic)</td><td>105.65</td><td>6844.50</td><td>No </td></tr>\n",
              "</tbody>\n",
              "</table>\n"
            ],
            "text/markdown": "\nA tibble: 6 × 21\n\n| customerID &lt;chr&gt; | GENDER &lt;chr&gt; | SeniorCitizen &lt;dbl&gt; | PARTNER &lt;chr&gt; | Dependents &lt;chr&gt; | tenure &lt;dbl&gt; | PhoneService &lt;chr&gt; | MultipleLines &lt;chr&gt; | InternetService &lt;chr&gt; | OnlineSecurity &lt;chr&gt; | ⋯ ⋯ | DeviceProtection &lt;chr&gt; | TECHSUPPORT &lt;chr&gt; | StreamingTV &lt;chr&gt; | StreamingMovies &lt;chr&gt; | Contract &lt;chr&gt; | PaperlessBilling &lt;chr&gt; | PaymentMethod &lt;chr&gt; | MonthlyCharges &lt;dbl&gt; | TotalCharges &lt;dbl&gt; | Churn &lt;chr&gt; |\n|---|---|---|---|---|---|---|---|---|---|---|---|---|---|---|---|---|---|---|---|---|\n| 2569-WGERO | Female | 0 | No  | No  | 72 | Yes | No               | No          | No internet service | ⋯ | No internet service | No internet service | No internet service | No internet service | Two year       | Yes | Bank transfer (automatic) |  21.15 | 1419.40 | No  |\n| 6840-RESVB | Male   | 0 | Yes | Yes | 24 | Yes | Yes              | DSL         | Yes                 | ⋯ | Yes                 | Yes                 | Yes                 | Yes                 | One year       | Yes | Mailed check              |  84.80 | 1990.50 | No  |\n| 2234-XADUH | Female | 0 | Yes | Yes | 72 | Yes | Yes              | Fiber optic | No                  | ⋯ | Yes                 | No                  | Yes                 | Yes                 | One year       | Yes | Credit card (automatic)   | 103.20 | 7362.90 | No  |\n| 4801-JZAZL | Female | 0 | Yes | Yes | 11 | No  | No phone service | DSL         | Yes                 | ⋯ | No                  | No                  | No                  | No                  | Month-to-month | Yes | Electronic check          |  29.60 |  346.45 | No  |\n| 8361-LTMKD | Male   | 1 | Yes | No  |  4 | Yes | Yes              | Fiber optic | No                  | ⋯ | No                  | No                  | No                  | No                  | Month-to-month | Yes | Mailed check              |  74.40 |  306.60 | Yes |\n| 3186-AJIEK | Male   | 0 | No  | No  | 66 | Yes | No               | Fiber optic | Yes                 | ⋯ | Yes                 | Yes                 | Yes                 | Yes                 | Two year       | Yes | Bank transfer (automatic) | 105.65 | 6844.50 | No  |\n\n",
            "text/latex": "A tibble: 6 × 21\n\\begin{tabular}{lllllllllllllllllllll}\n customerID & GENDER & SeniorCitizen & PARTNER & Dependents & tenure & PhoneService & MultipleLines & InternetService & OnlineSecurity & ⋯ & DeviceProtection & TECHSUPPORT & StreamingTV & StreamingMovies & Contract & PaperlessBilling & PaymentMethod & MonthlyCharges & TotalCharges & Churn\\\\\n <chr> & <chr> & <dbl> & <chr> & <chr> & <dbl> & <chr> & <chr> & <chr> & <chr> & ⋯ & <chr> & <chr> & <chr> & <chr> & <chr> & <chr> & <chr> & <dbl> & <dbl> & <chr>\\\\\n\\hline\n\t 2569-WGERO & Female & 0 & No  & No  & 72 & Yes & No               & No          & No internet service & ⋯ & No internet service & No internet service & No internet service & No internet service & Two year       & Yes & Bank transfer (automatic) &  21.15 & 1419.40 & No \\\\\n\t 6840-RESVB & Male   & 0 & Yes & Yes & 24 & Yes & Yes              & DSL         & Yes                 & ⋯ & Yes                 & Yes                 & Yes                 & Yes                 & One year       & Yes & Mailed check              &  84.80 & 1990.50 & No \\\\\n\t 2234-XADUH & Female & 0 & Yes & Yes & 72 & Yes & Yes              & Fiber optic & No                  & ⋯ & Yes                 & No                  & Yes                 & Yes                 & One year       & Yes & Credit card (automatic)   & 103.20 & 7362.90 & No \\\\\n\t 4801-JZAZL & Female & 0 & Yes & Yes & 11 & No  & No phone service & DSL         & Yes                 & ⋯ & No                  & No                  & No                  & No                  & Month-to-month & Yes & Electronic check          &  29.60 &  346.45 & No \\\\\n\t 8361-LTMKD & Male   & 1 & Yes & No  &  4 & Yes & Yes              & Fiber optic & No                  & ⋯ & No                  & No                  & No                  & No                  & Month-to-month & Yes & Mailed check              &  74.40 &  306.60 & Yes\\\\\n\t 3186-AJIEK & Male   & 0 & No  & No  & 66 & Yes & No               & Fiber optic & Yes                 & ⋯ & Yes                 & Yes                 & Yes                 & Yes                 & Two year       & Yes & Bank transfer (automatic) & 105.65 & 6844.50 & No \\\\\n\\end{tabular}\n",
            "text/plain": [
              "  customerID GENDER SeniorCitizen PARTNER Dependents tenure PhoneService\n",
              "1 2569-WGERO Female 0             No      No         72     Yes         \n",
              "2 6840-RESVB Male   0             Yes     Yes        24     Yes         \n",
              "3 2234-XADUH Female 0             Yes     Yes        72     Yes         \n",
              "4 4801-JZAZL Female 0             Yes     Yes        11     No          \n",
              "5 8361-LTMKD Male   1             Yes     No          4     Yes         \n",
              "6 3186-AJIEK Male   0             No      No         66     Yes         \n",
              "  MultipleLines    InternetService OnlineSecurity      ⋯ DeviceProtection   \n",
              "1 No               No              No internet service ⋯ No internet service\n",
              "2 Yes              DSL             Yes                 ⋯ Yes                \n",
              "3 Yes              Fiber optic     No                  ⋯ Yes                \n",
              "4 No phone service DSL             Yes                 ⋯ No                 \n",
              "5 Yes              Fiber optic     No                  ⋯ No                 \n",
              "6 No               Fiber optic     Yes                 ⋯ Yes                \n",
              "  TECHSUPPORT         StreamingTV         StreamingMovies     Contract      \n",
              "1 No internet service No internet service No internet service Two year      \n",
              "2 Yes                 Yes                 Yes                 One year      \n",
              "3 No                  Yes                 Yes                 One year      \n",
              "4 No                  No                  No                  Month-to-month\n",
              "5 No                  No                  No                  Month-to-month\n",
              "6 Yes                 Yes                 Yes                 Two year      \n",
              "  PaperlessBilling PaymentMethod             MonthlyCharges TotalCharges Churn\n",
              "1 Yes              Bank transfer (automatic)  21.15         1419.40      No   \n",
              "2 Yes              Mailed check               84.80         1990.50      No   \n",
              "3 Yes              Credit card (automatic)   103.20         7362.90      No   \n",
              "4 Yes              Electronic check           29.60          346.45      No   \n",
              "5 Yes              Mailed check               74.40          306.60      Yes  \n",
              "6 Yes              Bank transfer (automatic) 105.65         6844.50      No   "
            ]
          },
          "metadata": {}
        }
      ]
    },
    {
      "cell_type": "code",
      "source": [
        "# Let's check the variable names, datatypes and first few records of each variable using the `glimpse()` function\n",
        "glimpse(customer_df)"
      ],
      "metadata": {
        "colab": {
          "base_uri": "https://localhost:8080/"
        },
        "id": "AKmcBncSVCoE",
        "outputId": "32aced17-d1a8-4974-97a2-9f497c346b43"
      },
      "execution_count": null,
      "outputs": [
        {
          "output_type": "stream",
          "name": "stdout",
          "text": [
            "Rows: 7,050\n",
            "Columns: 21\n",
            "$ customerID       \u001b[3m\u001b[90m<chr>\u001b[39m\u001b[23m \"7590-VHVEG\", \"5575-GNVDE\", \"3668-QPYBK\", \"7795-CFOCW…\n",
            "$ GENDER           \u001b[3m\u001b[90m<chr>\u001b[39m\u001b[23m \"Female\", \"Male\", \"Male\", \"Male\", \"Female\", \"Female\",…\n",
            "$ SeniorCitizen    \u001b[3m\u001b[90m<dbl>\u001b[39m\u001b[23m 0, 0, 0, 0, 0, 0, 0, 0, 0, 0, 0, 0, 0, 0, 0, 0, 0, 0,…\n",
            "$ PARTNER          \u001b[3m\u001b[90m<chr>\u001b[39m\u001b[23m \"Yes\", \"No\", \"No\", \"No\", \"No\", \"No\", \"No\", \"No\", \"Yes…\n",
            "$ Dependents       \u001b[3m\u001b[90m<chr>\u001b[39m\u001b[23m \"No\", \"No\", \"No\", \"No\", \"No\", \"No\", \"Yes\", \"No\", \"No\"…\n",
            "$ tenure           \u001b[3m\u001b[90m<dbl>\u001b[39m\u001b[23m 1, 34, 2, 45, 2, 8, 22, 10, 28, 62, 13, 16, 58, 49, 2…\n",
            "$ PhoneService     \u001b[3m\u001b[90m<chr>\u001b[39m\u001b[23m \"No\", \"Yes\", \"Yes\", \"No\", \"Yes\", \"Yes\", \"Yes\", \"No\", …\n",
            "$ MultipleLines    \u001b[3m\u001b[90m<chr>\u001b[39m\u001b[23m \"No phone service\", \"No\", \"No\", \"No phone service\", \"…\n",
            "$ InternetService  \u001b[3m\u001b[90m<chr>\u001b[39m\u001b[23m \"DSL\", \"DSL\", \"DSL\", \"DSL\", \"Fiber optic\", \"Fiber opt…\n",
            "$ OnlineSecurity   \u001b[3m\u001b[90m<chr>\u001b[39m\u001b[23m \"No\", \"Yes\", \"Yes\", \"Yes\", \"No\", \"No\", \"No\", \"Yes\", \"…\n",
            "$ OnlineBackup     \u001b[3m\u001b[90m<chr>\u001b[39m\u001b[23m \"Yes\", \"No\", \"Yes\", \"No\", \"No\", \"No\", \"Yes\", \"No\", \"N…\n",
            "$ DeviceProtection \u001b[3m\u001b[90m<chr>\u001b[39m\u001b[23m \"No\", \"Yes\", \"No\", \"Yes\", \"No\", \"Yes\", \"No\", \"No\", \"Y…\n",
            "$ TECHSUPPORT      \u001b[3m\u001b[90m<chr>\u001b[39m\u001b[23m \"No\", \"No\", \"No\", \"Yes\", \"No\", \"No\", \"No\", \"No\", \"Yes…\n",
            "$ StreamingTV      \u001b[3m\u001b[90m<chr>\u001b[39m\u001b[23m \"No\", \"No\", \"No\", \"No\", \"No\", \"Yes\", \"Yes\", \"No\", \"Ye…\n",
            "$ StreamingMovies  \u001b[3m\u001b[90m<chr>\u001b[39m\u001b[23m \"No\", \"No\", \"No\", \"No\", \"No\", \"Yes\", \"No\", \"No\", \"Yes…\n",
            "$ Contract         \u001b[3m\u001b[90m<chr>\u001b[39m\u001b[23m \"Month-to-month\", \"One year\", \"Month-to-month\", \"One …\n",
            "$ PaperlessBilling \u001b[3m\u001b[90m<chr>\u001b[39m\u001b[23m \"Yes\", \"No\", \"Yes\", \"No\", \"Yes\", \"Yes\", \"Yes\", \"No\", …\n",
            "$ PaymentMethod    \u001b[3m\u001b[90m<chr>\u001b[39m\u001b[23m \"Electronic check\", \"Mailed check\", \"Mailed check\", \"…\n",
            "$ MonthlyCharges   \u001b[3m\u001b[90m<dbl>\u001b[39m\u001b[23m 29.85, 56.95, 53.85, 42.30, 70.70, 99.65, 89.10, 29.7…\n",
            "$ TotalCharges     \u001b[3m\u001b[90m<dbl>\u001b[39m\u001b[23m 29.85, 1889.50, 108.15, 1840.75, 151.65, 820.50, 1949…\n",
            "$ Churn            \u001b[3m\u001b[90m<chr>\u001b[39m\u001b[23m \"No\", \"No\", \"Yes\", \"No\", \"Yes\", \"Yes\", \"No\", \"No\", \"Y…\n"
          ]
        }
      ]
    },
    {
      "cell_type": "code",
      "source": [
        "# Let's display more information about the datatypes using the `str()` function\n",
        "str(customer_df)"
      ],
      "metadata": {
        "colab": {
          "base_uri": "https://localhost:8080/"
        },
        "id": "gbm5kky1VFGp",
        "outputId": "81d5ac57-a4df-4a48-ee25-087e851f82a8"
      },
      "execution_count": null,
      "outputs": [
        {
          "output_type": "stream",
          "name": "stdout",
          "text": [
            "spc_tbl_ [7,050 × 21] (S3: spec_tbl_df/tbl_df/tbl/data.frame)\n",
            " $ customerID      : chr [1:7050] \"7590-VHVEG\" \"5575-GNVDE\" \"3668-QPYBK\" \"7795-CFOCW\" ...\n",
            " $ GENDER          : chr [1:7050] \"Female\" \"Male\" \"Male\" \"Male\" ...\n",
            " $ SeniorCitizen   : num [1:7050] 0 0 0 0 0 0 0 0 0 0 ...\n",
            " $ PARTNER         : chr [1:7050] \"Yes\" \"No\" \"No\" \"No\" ...\n",
            " $ Dependents      : chr [1:7050] \"No\" \"No\" \"No\" \"No\" ...\n",
            " $ tenure          : num [1:7050] 1 34 2 45 2 8 22 10 28 62 ...\n",
            " $ PhoneService    : chr [1:7050] \"No\" \"Yes\" \"Yes\" \"No\" ...\n",
            " $ MultipleLines   : chr [1:7050] \"No phone service\" \"No\" \"No\" \"No phone service\" ...\n",
            " $ InternetService : chr [1:7050] \"DSL\" \"DSL\" \"DSL\" \"DSL\" ...\n",
            " $ OnlineSecurity  : chr [1:7050] \"No\" \"Yes\" \"Yes\" \"Yes\" ...\n",
            " $ OnlineBackup    : chr [1:7050] \"Yes\" \"No\" \"Yes\" \"No\" ...\n",
            " $ DeviceProtection: chr [1:7050] \"No\" \"Yes\" \"No\" \"Yes\" ...\n",
            " $ TECHSUPPORT     : chr [1:7050] \"No\" \"No\" \"No\" \"Yes\" ...\n",
            " $ StreamingTV     : chr [1:7050] \"No\" \"No\" \"No\" \"No\" ...\n",
            " $ StreamingMovies : chr [1:7050] \"No\" \"No\" \"No\" \"No\" ...\n",
            " $ Contract        : chr [1:7050] \"Month-to-month\" \"One year\" \"Month-to-month\" \"One year\" ...\n",
            " $ PaperlessBilling: chr [1:7050] \"Yes\" \"No\" \"Yes\" \"No\" ...\n",
            " $ PaymentMethod   : chr [1:7050] \"Electronic check\" \"Mailed check\" \"Mailed check\" \"Bank transfer (automatic)\" ...\n",
            " $ MonthlyCharges  : num [1:7050] 29.9 57 53.9 42.3 70.7 ...\n",
            " $ TotalCharges    : num [1:7050] 29.9 1889.5 108.2 1840.8 151.7 ...\n",
            " $ Churn           : chr [1:7050] \"No\" \"No\" \"Yes\" \"No\" ...\n",
            " - attr(*, \"spec\")=\n",
            "  .. cols(\n",
            "  ..   customerID = \u001b[31mcol_character()\u001b[39m,\n",
            "  ..   GENDER = \u001b[31mcol_character()\u001b[39m,\n",
            "  ..   SeniorCitizen = \u001b[32mcol_double()\u001b[39m,\n",
            "  ..   PARTNER = \u001b[31mcol_character()\u001b[39m,\n",
            "  ..   Dependents = \u001b[31mcol_character()\u001b[39m,\n",
            "  ..   tenure = \u001b[32mcol_double()\u001b[39m,\n",
            "  ..   PhoneService = \u001b[31mcol_character()\u001b[39m,\n",
            "  ..   MultipleLines = \u001b[31mcol_character()\u001b[39m,\n",
            "  ..   InternetService = \u001b[31mcol_character()\u001b[39m,\n",
            "  ..   OnlineSecurity = \u001b[31mcol_character()\u001b[39m,\n",
            "  ..   OnlineBackup = \u001b[31mcol_character()\u001b[39m,\n",
            "  ..   DeviceProtection = \u001b[31mcol_character()\u001b[39m,\n",
            "  ..   TECHSUPPORT = \u001b[31mcol_character()\u001b[39m,\n",
            "  ..   StreamingTV = \u001b[31mcol_character()\u001b[39m,\n",
            "  ..   StreamingMovies = \u001b[31mcol_character()\u001b[39m,\n",
            "  ..   Contract = \u001b[31mcol_character()\u001b[39m,\n",
            "  ..   PaperlessBilling = \u001b[31mcol_character()\u001b[39m,\n",
            "  ..   PaymentMethod = \u001b[31mcol_character()\u001b[39m,\n",
            "  ..   MonthlyCharges = \u001b[32mcol_double()\u001b[39m,\n",
            "  ..   TotalCharges = \u001b[32mcol_double()\u001b[39m,\n",
            "  ..   Churn = \u001b[31mcol_character()\u001b[39m\n",
            "  .. )\n",
            " - attr(*, \"problems\")=<externalptr> \n"
          ]
        }
      ]
    },
    {
      "cell_type": "code",
      "source": [
        "# Let's see a random sample of the dataset\n",
        "sample_n(customer_df, 10)"
      ],
      "metadata": {
        "colab": {
          "base_uri": "https://localhost:8080/",
          "height": 605
        },
        "id": "ME5nX-NtVI_a",
        "outputId": "a4cccd02-cb40-4c35-9537-06ed83b47749"
      },
      "execution_count": null,
      "outputs": [
        {
          "output_type": "display_data",
          "data": {
            "text/html": [
              "<table class=\"dataframe\">\n",
              "<caption>A spec_tbl_df: 10 × 21</caption>\n",
              "<thead>\n",
              "\t<tr><th scope=col>customerID</th><th scope=col>GENDER</th><th scope=col>SeniorCitizen</th><th scope=col>PARTNER</th><th scope=col>Dependents</th><th scope=col>tenure</th><th scope=col>PhoneService</th><th scope=col>MultipleLines</th><th scope=col>InternetService</th><th scope=col>OnlineSecurity</th><th scope=col>⋯</th><th scope=col>DeviceProtection</th><th scope=col>TECHSUPPORT</th><th scope=col>StreamingTV</th><th scope=col>StreamingMovies</th><th scope=col>Contract</th><th scope=col>PaperlessBilling</th><th scope=col>PaymentMethod</th><th scope=col>MonthlyCharges</th><th scope=col>TotalCharges</th><th scope=col>Churn</th></tr>\n",
              "\t<tr><th scope=col>&lt;chr&gt;</th><th scope=col>&lt;chr&gt;</th><th scope=col>&lt;dbl&gt;</th><th scope=col>&lt;chr&gt;</th><th scope=col>&lt;chr&gt;</th><th scope=col>&lt;dbl&gt;</th><th scope=col>&lt;chr&gt;</th><th scope=col>&lt;chr&gt;</th><th scope=col>&lt;chr&gt;</th><th scope=col>&lt;chr&gt;</th><th scope=col>⋯</th><th scope=col>&lt;chr&gt;</th><th scope=col>&lt;chr&gt;</th><th scope=col>&lt;chr&gt;</th><th scope=col>&lt;chr&gt;</th><th scope=col>&lt;chr&gt;</th><th scope=col>&lt;chr&gt;</th><th scope=col>&lt;chr&gt;</th><th scope=col>&lt;dbl&gt;</th><th scope=col>&lt;dbl&gt;</th><th scope=col>&lt;chr&gt;</th></tr>\n",
              "</thead>\n",
              "<tbody>\n",
              "\t<tr><td>3719-TDVQB</td><td>Female</td><td>1</td><td>Yes</td><td>No </td><td>54</td><td>Yes</td><td>No              </td><td>No         </td><td>No internet service</td><td>⋯</td><td>No internet service</td><td>No internet service</td><td>No internet service</td><td>No internet service</td><td>Two year      </td><td>Yes</td><td>Mailed check             </td><td> 18.95</td><td>1031.10</td><td>No </td></tr>\n",
              "\t<tr><td>9067-SQTNS</td><td>Male  </td><td>0</td><td>Yes</td><td>Yes</td><td>44</td><td>Yes</td><td>No              </td><td>No         </td><td>No internet service</td><td>⋯</td><td>No internet service</td><td>No internet service</td><td>No internet service</td><td>No internet service</td><td>One year      </td><td>No </td><td>Bank transfer (automatic)</td><td> 20.60</td><td> 926.00</td><td>No </td></tr>\n",
              "\t<tr><td>5294-CDGWY</td><td>Male  </td><td>0</td><td>Yes</td><td>Yes</td><td>51</td><td>No </td><td>No phone service</td><td>DSL        </td><td>Yes                </td><td>⋯</td><td>Yes                </td><td>No                 </td><td>Yes                </td><td>Yes                </td><td>One year      </td><td>No </td><td>Electronic check         </td><td> 59.30</td><td>3014.65</td><td>Yes</td></tr>\n",
              "\t<tr><td>9618-LFJRU</td><td>Female</td><td>0</td><td>No </td><td>No </td><td> 4</td><td>Yes</td><td>No              </td><td>No         </td><td>No internet service</td><td>⋯</td><td>No internet service</td><td>No internet service</td><td>No internet service</td><td>No internet service</td><td>Month-to-month</td><td>No </td><td>Credit card (automatic)  </td><td> 20.45</td><td>  82.85</td><td>No </td></tr>\n",
              "\t<tr><td>7576-JMYWV</td><td>Female</td><td>1</td><td>Yes</td><td>Yes</td><td>46</td><td>Yes</td><td>Yes             </td><td>Fiber optic</td><td>Yes                </td><td>⋯</td><td>No                 </td><td>Yes                </td><td>Yes                </td><td>Yes                </td><td>Month-to-month</td><td>Yes</td><td>Electronic check         </td><td>110.20</td><td>4972.10</td><td>No </td></tr>\n",
              "\t<tr><td>7501-IWUNG</td><td>Female</td><td>0</td><td>Yes</td><td>Yes</td><td>61</td><td>Yes</td><td>No              </td><td>DSL        </td><td>No                 </td><td>⋯</td><td>Yes                </td><td>Yes                </td><td>Yes                </td><td>Yes                </td><td>Two year      </td><td>Yes</td><td>Bank transfer (automatic)</td><td> 73.80</td><td>4616.05</td><td>No </td></tr>\n",
              "\t<tr><td>4439-JMPMT</td><td>Female</td><td>0</td><td>Yes</td><td>Yes</td><td> 5</td><td>Yes</td><td>No              </td><td>Fiber optic</td><td>No                 </td><td>⋯</td><td>No                 </td><td>Yes                </td><td>Yes                </td><td>No                 </td><td>Month-to-month</td><td>Yes</td><td>Electronic check         </td><td> 85.75</td><td> 470.95</td><td>Yes</td></tr>\n",
              "\t<tr><td>0661-WCQNQ</td><td>Male  </td><td>0</td><td>Yes</td><td>No </td><td>22</td><td>Yes</td><td>No              </td><td>DSL        </td><td>Yes                </td><td>⋯</td><td>No                 </td><td>Yes                </td><td>No                 </td><td>No                 </td><td>One year      </td><td>Yes</td><td>Credit card (automatic)  </td><td> 56.25</td><td>1292.20</td><td>No </td></tr>\n",
              "\t<tr><td>5204-QZXPU</td><td>Male  </td><td>0</td><td>No </td><td>No </td><td>19</td><td>No </td><td>No phone service</td><td>DSL        </td><td>No                 </td><td>⋯</td><td>Yes                </td><td>No                 </td><td>Yes                </td><td>No                 </td><td>Month-to-month</td><td>Yes</td><td>Electronic check         </td><td> 39.65</td><td> 733.35</td><td>Yes</td></tr>\n",
              "\t<tr><td>3740-RLMVT</td><td>Male  </td><td>1</td><td>Yes</td><td>No </td><td>67</td><td>Yes</td><td>No              </td><td>DSL        </td><td>Yes                </td><td>⋯</td><td>No                 </td><td>Yes                </td><td>No                 </td><td>No                 </td><td>One year      </td><td>Yes</td><td>Bank transfer (automatic)</td><td> 60.95</td><td>4119.40</td><td>No </td></tr>\n",
              "</tbody>\n",
              "</table>\n"
            ],
            "text/markdown": "\nA spec_tbl_df: 10 × 21\n\n| customerID &lt;chr&gt; | GENDER &lt;chr&gt; | SeniorCitizen &lt;dbl&gt; | PARTNER &lt;chr&gt; | Dependents &lt;chr&gt; | tenure &lt;dbl&gt; | PhoneService &lt;chr&gt; | MultipleLines &lt;chr&gt; | InternetService &lt;chr&gt; | OnlineSecurity &lt;chr&gt; | ⋯ ⋯ | DeviceProtection &lt;chr&gt; | TECHSUPPORT &lt;chr&gt; | StreamingTV &lt;chr&gt; | StreamingMovies &lt;chr&gt; | Contract &lt;chr&gt; | PaperlessBilling &lt;chr&gt; | PaymentMethod &lt;chr&gt; | MonthlyCharges &lt;dbl&gt; | TotalCharges &lt;dbl&gt; | Churn &lt;chr&gt; |\n|---|---|---|---|---|---|---|---|---|---|---|---|---|---|---|---|---|---|---|---|---|\n| 3719-TDVQB | Female | 1 | Yes | No  | 54 | Yes | No               | No          | No internet service | ⋯ | No internet service | No internet service | No internet service | No internet service | Two year       | Yes | Mailed check              |  18.95 | 1031.10 | No  |\n| 9067-SQTNS | Male   | 0 | Yes | Yes | 44 | Yes | No               | No          | No internet service | ⋯ | No internet service | No internet service | No internet service | No internet service | One year       | No  | Bank transfer (automatic) |  20.60 |  926.00 | No  |\n| 5294-CDGWY | Male   | 0 | Yes | Yes | 51 | No  | No phone service | DSL         | Yes                 | ⋯ | Yes                 | No                  | Yes                 | Yes                 | One year       | No  | Electronic check          |  59.30 | 3014.65 | Yes |\n| 9618-LFJRU | Female | 0 | No  | No  |  4 | Yes | No               | No          | No internet service | ⋯ | No internet service | No internet service | No internet service | No internet service | Month-to-month | No  | Credit card (automatic)   |  20.45 |   82.85 | No  |\n| 7576-JMYWV | Female | 1 | Yes | Yes | 46 | Yes | Yes              | Fiber optic | Yes                 | ⋯ | No                  | Yes                 | Yes                 | Yes                 | Month-to-month | Yes | Electronic check          | 110.20 | 4972.10 | No  |\n| 7501-IWUNG | Female | 0 | Yes | Yes | 61 | Yes | No               | DSL         | No                  | ⋯ | Yes                 | Yes                 | Yes                 | Yes                 | Two year       | Yes | Bank transfer (automatic) |  73.80 | 4616.05 | No  |\n| 4439-JMPMT | Female | 0 | Yes | Yes |  5 | Yes | No               | Fiber optic | No                  | ⋯ | No                  | Yes                 | Yes                 | No                  | Month-to-month | Yes | Electronic check          |  85.75 |  470.95 | Yes |\n| 0661-WCQNQ | Male   | 0 | Yes | No  | 22 | Yes | No               | DSL         | Yes                 | ⋯ | No                  | Yes                 | No                  | No                  | One year       | Yes | Credit card (automatic)   |  56.25 | 1292.20 | No  |\n| 5204-QZXPU | Male   | 0 | No  | No  | 19 | No  | No phone service | DSL         | No                  | ⋯ | Yes                 | No                  | Yes                 | No                  | Month-to-month | Yes | Electronic check          |  39.65 |  733.35 | Yes |\n| 3740-RLMVT | Male   | 1 | Yes | No  | 67 | Yes | No               | DSL         | Yes                 | ⋯ | No                  | Yes                 | No                  | No                  | One year       | Yes | Bank transfer (automatic) |  60.95 | 4119.40 | No  |\n\n",
            "text/latex": "A spec\\_tbl\\_df: 10 × 21\n\\begin{tabular}{lllllllllllllllllllll}\n customerID & GENDER & SeniorCitizen & PARTNER & Dependents & tenure & PhoneService & MultipleLines & InternetService & OnlineSecurity & ⋯ & DeviceProtection & TECHSUPPORT & StreamingTV & StreamingMovies & Contract & PaperlessBilling & PaymentMethod & MonthlyCharges & TotalCharges & Churn\\\\\n <chr> & <chr> & <dbl> & <chr> & <chr> & <dbl> & <chr> & <chr> & <chr> & <chr> & ⋯ & <chr> & <chr> & <chr> & <chr> & <chr> & <chr> & <chr> & <dbl> & <dbl> & <chr>\\\\\n\\hline\n\t 3719-TDVQB & Female & 1 & Yes & No  & 54 & Yes & No               & No          & No internet service & ⋯ & No internet service & No internet service & No internet service & No internet service & Two year       & Yes & Mailed check              &  18.95 & 1031.10 & No \\\\\n\t 9067-SQTNS & Male   & 0 & Yes & Yes & 44 & Yes & No               & No          & No internet service & ⋯ & No internet service & No internet service & No internet service & No internet service & One year       & No  & Bank transfer (automatic) &  20.60 &  926.00 & No \\\\\n\t 5294-CDGWY & Male   & 0 & Yes & Yes & 51 & No  & No phone service & DSL         & Yes                 & ⋯ & Yes                 & No                  & Yes                 & Yes                 & One year       & No  & Electronic check          &  59.30 & 3014.65 & Yes\\\\\n\t 9618-LFJRU & Female & 0 & No  & No  &  4 & Yes & No               & No          & No internet service & ⋯ & No internet service & No internet service & No internet service & No internet service & Month-to-month & No  & Credit card (automatic)   &  20.45 &   82.85 & No \\\\\n\t 7576-JMYWV & Female & 1 & Yes & Yes & 46 & Yes & Yes              & Fiber optic & Yes                 & ⋯ & No                  & Yes                 & Yes                 & Yes                 & Month-to-month & Yes & Electronic check          & 110.20 & 4972.10 & No \\\\\n\t 7501-IWUNG & Female & 0 & Yes & Yes & 61 & Yes & No               & DSL         & No                  & ⋯ & Yes                 & Yes                 & Yes                 & Yes                 & Two year       & Yes & Bank transfer (automatic) &  73.80 & 4616.05 & No \\\\\n\t 4439-JMPMT & Female & 0 & Yes & Yes &  5 & Yes & No               & Fiber optic & No                  & ⋯ & No                  & Yes                 & Yes                 & No                  & Month-to-month & Yes & Electronic check          &  85.75 &  470.95 & Yes\\\\\n\t 0661-WCQNQ & Male   & 0 & Yes & No  & 22 & Yes & No               & DSL         & Yes                 & ⋯ & No                  & Yes                 & No                  & No                  & One year       & Yes & Credit card (automatic)   &  56.25 & 1292.20 & No \\\\\n\t 5204-QZXPU & Male   & 0 & No  & No  & 19 & No  & No phone service & DSL         & No                  & ⋯ & Yes                 & No                  & Yes                 & No                  & Month-to-month & Yes & Electronic check          &  39.65 &  733.35 & Yes\\\\\n\t 3740-RLMVT & Male   & 1 & Yes & No  & 67 & Yes & No               & DSL         & Yes                 & ⋯ & No                  & Yes                 & No                  & No                  & One year       & Yes & Bank transfer (automatic) &  60.95 & 4119.40 & No \\\\\n\\end{tabular}\n",
            "text/plain": [
              "   customerID GENDER SeniorCitizen PARTNER Dependents tenure PhoneService\n",
              "1  3719-TDVQB Female 1             Yes     No         54     Yes         \n",
              "2  9067-SQTNS Male   0             Yes     Yes        44     Yes         \n",
              "3  5294-CDGWY Male   0             Yes     Yes        51     No          \n",
              "4  9618-LFJRU Female 0             No      No          4     Yes         \n",
              "5  7576-JMYWV Female 1             Yes     Yes        46     Yes         \n",
              "6  7501-IWUNG Female 0             Yes     Yes        61     Yes         \n",
              "7  4439-JMPMT Female 0             Yes     Yes         5     Yes         \n",
              "8  0661-WCQNQ Male   0             Yes     No         22     Yes         \n",
              "9  5204-QZXPU Male   0             No      No         19     No          \n",
              "10 3740-RLMVT Male   1             Yes     No         67     Yes         \n",
              "   MultipleLines    InternetService OnlineSecurity      ⋯ DeviceProtection   \n",
              "1  No               No              No internet service ⋯ No internet service\n",
              "2  No               No              No internet service ⋯ No internet service\n",
              "3  No phone service DSL             Yes                 ⋯ Yes                \n",
              "4  No               No              No internet service ⋯ No internet service\n",
              "5  Yes              Fiber optic     Yes                 ⋯ No                 \n",
              "6  No               DSL             No                  ⋯ Yes                \n",
              "7  No               Fiber optic     No                  ⋯ No                 \n",
              "8  No               DSL             Yes                 ⋯ No                 \n",
              "9  No phone service DSL             No                  ⋯ Yes                \n",
              "10 No               DSL             Yes                 ⋯ No                 \n",
              "   TECHSUPPORT         StreamingTV         StreamingMovies     Contract      \n",
              "1  No internet service No internet service No internet service Two year      \n",
              "2  No internet service No internet service No internet service One year      \n",
              "3  No                  Yes                 Yes                 One year      \n",
              "4  No internet service No internet service No internet service Month-to-month\n",
              "5  Yes                 Yes                 Yes                 Month-to-month\n",
              "6  Yes                 Yes                 Yes                 Two year      \n",
              "7  Yes                 Yes                 No                  Month-to-month\n",
              "8  Yes                 No                  No                  One year      \n",
              "9  No                  Yes                 No                  Month-to-month\n",
              "10 Yes                 No                  No                  One year      \n",
              "   PaperlessBilling PaymentMethod             MonthlyCharges TotalCharges Churn\n",
              "1  Yes              Mailed check               18.95         1031.10      No   \n",
              "2  No               Bank transfer (automatic)  20.60          926.00      No   \n",
              "3  No               Electronic check           59.30         3014.65      Yes  \n",
              "4  No               Credit card (automatic)    20.45           82.85      No   \n",
              "5  Yes              Electronic check          110.20         4972.10      No   \n",
              "6  Yes              Bank transfer (automatic)  73.80         4616.05      No   \n",
              "7  Yes              Electronic check           85.75          470.95      Yes  \n",
              "8  Yes              Credit card (automatic)    56.25         1292.20      No   \n",
              "9  Yes              Electronic check           39.65          733.35      Yes  \n",
              "10 Yes              Bank transfer (automatic)  60.95         4119.40      No   "
            ]
          },
          "metadata": {}
        }
      ]
    },
    {
      "cell_type": "code",
      "source": [
        "# Let's check the size of the dataset without displaying additional information\n",
        "dim(customer_df)"
      ],
      "metadata": {
        "colab": {
          "base_uri": "https://localhost:8080/",
          "height": 34
        },
        "id": "i3_JIcaHVNMG",
        "outputId": "8c2053e5-24c4-4473-87e1-3798f490a2be"
      },
      "execution_count": null,
      "outputs": [
        {
          "output_type": "display_data",
          "data": {
            "text/html": [
              "<style>\n",
              ".list-inline {list-style: none; margin:0; padding: 0}\n",
              ".list-inline>li {display: inline-block}\n",
              ".list-inline>li:not(:last-child)::after {content: \"\\00b7\"; padding: 0 .5ex}\n",
              "</style>\n",
              "<ol class=list-inline><li>7050</li><li>21</li></ol>\n"
            ],
            "text/markdown": "1. 7050\n2. 21\n\n\n",
            "text/latex": "\\begin{enumerate*}\n\\item 7050\n\\item 21\n\\end{enumerate*}\n",
            "text/plain": [
              "[1] 7050   21"
            ]
          },
          "metadata": {}
        }
      ]
    },
    {
      "cell_type": "markdown",
      "source": [
        "* **Observation:** Most of the columns appear to have categorical data"
      ],
      "metadata": {
        "id": "hfwDEdN7VSS4"
      }
    },
    {
      "cell_type": "markdown",
      "source": [
        "## Step 4. Standardisation"
      ],
      "metadata": {
        "id": "NJjdi113VVri"
      }
    },
    {
      "cell_type": "code",
      "source": [
        "# Let's check the dataset column names\n",
        "names(customer_df)"
      ],
      "metadata": {
        "colab": {
          "base_uri": "https://localhost:8080/",
          "height": 69
        },
        "id": "T7mqk63nVPkX",
        "outputId": "6a7da1d9-1304-47f3-9de5-ceb7eee415cc"
      },
      "execution_count": null,
      "outputs": [
        {
          "output_type": "display_data",
          "data": {
            "text/html": [
              "<style>\n",
              ".list-inline {list-style: none; margin:0; padding: 0}\n",
              ".list-inline>li {display: inline-block}\n",
              ".list-inline>li:not(:last-child)::after {content: \"\\00b7\"; padding: 0 .5ex}\n",
              "</style>\n",
              "<ol class=list-inline><li>'customerID'</li><li>'GENDER'</li><li>'SeniorCitizen'</li><li>'PARTNER'</li><li>'Dependents'</li><li>'tenure'</li><li>'PhoneService'</li><li>'MultipleLines'</li><li>'InternetService'</li><li>'OnlineSecurity'</li><li>'OnlineBackup'</li><li>'DeviceProtection'</li><li>'TECHSUPPORT'</li><li>'StreamingTV'</li><li>'StreamingMovies'</li><li>'Contract'</li><li>'PaperlessBilling'</li><li>'PaymentMethod'</li><li>'MonthlyCharges'</li><li>'TotalCharges'</li><li>'Churn'</li></ol>\n"
            ],
            "text/markdown": "1. 'customerID'\n2. 'GENDER'\n3. 'SeniorCitizen'\n4. 'PARTNER'\n5. 'Dependents'\n6. 'tenure'\n7. 'PhoneService'\n8. 'MultipleLines'\n9. 'InternetService'\n10. 'OnlineSecurity'\n11. 'OnlineBackup'\n12. 'DeviceProtection'\n13. 'TECHSUPPORT'\n14. 'StreamingTV'\n15. 'StreamingMovies'\n16. 'Contract'\n17. 'PaperlessBilling'\n18. 'PaymentMethod'\n19. 'MonthlyCharges'\n20. 'TotalCharges'\n21. 'Churn'\n\n\n",
            "text/latex": "\\begin{enumerate*}\n\\item 'customerID'\n\\item 'GENDER'\n\\item 'SeniorCitizen'\n\\item 'PARTNER'\n\\item 'Dependents'\n\\item 'tenure'\n\\item 'PhoneService'\n\\item 'MultipleLines'\n\\item 'InternetService'\n\\item 'OnlineSecurity'\n\\item 'OnlineBackup'\n\\item 'DeviceProtection'\n\\item 'TECHSUPPORT'\n\\item 'StreamingTV'\n\\item 'StreamingMovies'\n\\item 'Contract'\n\\item 'PaperlessBilling'\n\\item 'PaymentMethod'\n\\item 'MonthlyCharges'\n\\item 'TotalCharges'\n\\item 'Churn'\n\\end{enumerate*}\n",
            "text/plain": [
              " [1] \"customerID\"       \"GENDER\"           \"SeniorCitizen\"    \"PARTNER\"         \n",
              " [5] \"Dependents\"       \"tenure\"           \"PhoneService\"     \"MultipleLines\"   \n",
              " [9] \"InternetService\"  \"OnlineSecurity\"   \"OnlineBackup\"     \"DeviceProtection\"\n",
              "[13] \"TECHSUPPORT\"      \"StreamingTV\"      \"StreamingMovies\"  \"Contract\"        \n",
              "[17] \"PaperlessBilling\" \"PaymentMethod\"    \"MonthlyCharges\"   \"TotalCharges\"    \n",
              "[21] \"Churn\"           "
            ]
          },
          "metadata": {}
        }
      ]
    },
    {
      "cell_type": "code",
      "source": [
        "# Strip the leading and trailing spaces using the `trimws()` function\n",
        "# For the arguments, we pass the column names vector and a vector with value \"both\" that defines that the leading and trailing spaces will be stripped. Note that this method transforms underscores to period\n",
        "names(customer_df) <- trimws(names(customer_df), which = c(\"both\"))\n",
        "names(customer_df)"
      ],
      "metadata": {
        "colab": {
          "base_uri": "https://localhost:8080/",
          "height": 69
        },
        "id": "lQWBdcMCVYiU",
        "outputId": "83e3f866-8ef8-4758-8882-cf258340e4c4"
      },
      "execution_count": null,
      "outputs": [
        {
          "output_type": "display_data",
          "data": {
            "text/html": [
              "<style>\n",
              ".list-inline {list-style: none; margin:0; padding: 0}\n",
              ".list-inline>li {display: inline-block}\n",
              ".list-inline>li:not(:last-child)::after {content: \"\\00b7\"; padding: 0 .5ex}\n",
              "</style>\n",
              "<ol class=list-inline><li>'customerID'</li><li>'GENDER'</li><li>'SeniorCitizen'</li><li>'PARTNER'</li><li>'Dependents'</li><li>'tenure'</li><li>'PhoneService'</li><li>'MultipleLines'</li><li>'InternetService'</li><li>'OnlineSecurity'</li><li>'OnlineBackup'</li><li>'DeviceProtection'</li><li>'TECHSUPPORT'</li><li>'StreamingTV'</li><li>'StreamingMovies'</li><li>'Contract'</li><li>'PaperlessBilling'</li><li>'PaymentMethod'</li><li>'MonthlyCharges'</li><li>'TotalCharges'</li><li>'Churn'</li></ol>\n"
            ],
            "text/markdown": "1. 'customerID'\n2. 'GENDER'\n3. 'SeniorCitizen'\n4. 'PARTNER'\n5. 'Dependents'\n6. 'tenure'\n7. 'PhoneService'\n8. 'MultipleLines'\n9. 'InternetService'\n10. 'OnlineSecurity'\n11. 'OnlineBackup'\n12. 'DeviceProtection'\n13. 'TECHSUPPORT'\n14. 'StreamingTV'\n15. 'StreamingMovies'\n16. 'Contract'\n17. 'PaperlessBilling'\n18. 'PaymentMethod'\n19. 'MonthlyCharges'\n20. 'TotalCharges'\n21. 'Churn'\n\n\n",
            "text/latex": "\\begin{enumerate*}\n\\item 'customerID'\n\\item 'GENDER'\n\\item 'SeniorCitizen'\n\\item 'PARTNER'\n\\item 'Dependents'\n\\item 'tenure'\n\\item 'PhoneService'\n\\item 'MultipleLines'\n\\item 'InternetService'\n\\item 'OnlineSecurity'\n\\item 'OnlineBackup'\n\\item 'DeviceProtection'\n\\item 'TECHSUPPORT'\n\\item 'StreamingTV'\n\\item 'StreamingMovies'\n\\item 'Contract'\n\\item 'PaperlessBilling'\n\\item 'PaymentMethod'\n\\item 'MonthlyCharges'\n\\item 'TotalCharges'\n\\item 'Churn'\n\\end{enumerate*}\n",
            "text/plain": [
              " [1] \"customerID\"       \"GENDER\"           \"SeniorCitizen\"    \"PARTNER\"         \n",
              " [5] \"Dependents\"       \"tenure\"           \"PhoneService\"     \"MultipleLines\"   \n",
              " [9] \"InternetService\"  \"OnlineSecurity\"   \"OnlineBackup\"     \"DeviceProtection\"\n",
              "[13] \"TECHSUPPORT\"      \"StreamingTV\"      \"StreamingMovies\"  \"Contract\"        \n",
              "[17] \"PaperlessBilling\" \"PaymentMethod\"    \"MonthlyCharges\"   \"TotalCharges\"    \n",
              "[21] \"Churn\"           "
            ]
          },
          "metadata": {}
        }
      ]
    },
    {
      "cell_type": "code",
      "source": [
        "# Let's transform all column names to have lowercase characters using the `tolower()` function. \n",
        "# We pass a vector containing the column names\n",
        "\n",
        "names(customer_df) <- tolower(names(customer_df))\n",
        "names(customer_df)"
      ],
      "metadata": {
        "colab": {
          "base_uri": "https://localhost:8080/",
          "height": 52
        },
        "id": "ZFD4bbz7Vbew",
        "outputId": "186246ba-6618-482f-d1dd-3025f8e1485c"
      },
      "execution_count": null,
      "outputs": [
        {
          "output_type": "display_data",
          "data": {
            "text/html": [
              "<style>\n",
              ".list-inline {list-style: none; margin:0; padding: 0}\n",
              ".list-inline>li {display: inline-block}\n",
              ".list-inline>li:not(:last-child)::after {content: \"\\00b7\"; padding: 0 .5ex}\n",
              "</style>\n",
              "<ol class=list-inline><li>'customerid'</li><li>'gender'</li><li>'seniorcitizen'</li><li>'partner'</li><li>'dependents'</li><li>'tenure'</li><li>'phoneservice'</li><li>'multiplelines'</li><li>'internetservice'</li><li>'onlinesecurity'</li><li>'onlinebackup'</li><li>'deviceprotection'</li><li>'techsupport'</li><li>'streamingtv'</li><li>'streamingmovies'</li><li>'contract'</li><li>'monthlycharges'</li><li>'totalcharges'</li><li>'churn'</li></ol>\n"
            ],
            "text/markdown": "1. 'customerid'\n2. 'gender'\n3. 'seniorcitizen'\n4. 'partner'\n5. 'dependents'\n6. 'tenure'\n7. 'phoneservice'\n8. 'multiplelines'\n9. 'internetservice'\n10. 'onlinesecurity'\n11. 'onlinebackup'\n12. 'deviceprotection'\n13. 'techsupport'\n14. 'streamingtv'\n15. 'streamingmovies'\n16. 'contract'\n17. 'monthlycharges'\n18. 'totalcharges'\n19. 'churn'\n\n\n",
            "text/latex": "\\begin{enumerate*}\n\\item 'customerid'\n\\item 'gender'\n\\item 'seniorcitizen'\n\\item 'partner'\n\\item 'dependents'\n\\item 'tenure'\n\\item 'phoneservice'\n\\item 'multiplelines'\n\\item 'internetservice'\n\\item 'onlinesecurity'\n\\item 'onlinebackup'\n\\item 'deviceprotection'\n\\item 'techsupport'\n\\item 'streamingtv'\n\\item 'streamingmovies'\n\\item 'contract'\n\\item 'monthlycharges'\n\\item 'totalcharges'\n\\item 'churn'\n\\end{enumerate*}\n",
            "text/plain": [
              " [1] \"customerid\"       \"gender\"           \"seniorcitizen\"    \"partner\"         \n",
              " [5] \"dependents\"       \"tenure\"           \"phoneservice\"     \"multiplelines\"   \n",
              " [9] \"internetservice\"  \"onlinesecurity\"   \"onlinebackup\"     \"deviceprotection\"\n",
              "[13] \"techsupport\"      \"streamingtv\"      \"streamingmovies\"  \"contract\"        \n",
              "[17] \"monthlycharges\"   \"totalcharges\"     \"churn\"           "
            ]
          },
          "metadata": {}
        }
      ]
    },
    {
      "cell_type": "markdown",
      "source": [
        "## Step 5. Handle Irrelevant Data\n",
        "\n",
        "We will drop columns that will not be useful in our analysis.\n"
      ],
      "metadata": {
        "id": "QEmQp6HpVg9V"
      }
    },
    {
      "cell_type": "code",
      "source": [
        "# Let's drop the paymentmethod and paperlessbilling columns using the `select()` function \n",
        "# We use `-` operator to define the column names we don't want.\n",
        "\n",
        "customer_df = select(customer_df, -c(\"paymentmethod\", \"paperlessbilling\"))"
      ],
      "metadata": {
        "colab": {
          "base_uri": "https://localhost:8080/",
          "height": 1000
        },
        "id": "zY9UgCScVeg7",
        "outputId": "3b8b1be9-8150-4729-b656-8e5e959ab328"
      },
      "execution_count": null,
      "outputs": [
        {
          "output_type": "error",
          "ename": "ERROR",
          "evalue": "ignored",
          "traceback": [
            "\u001b[1m\u001b[33mError\u001b[39m in `select()`:\u001b[22m\n\u001b[33m!\u001b[39m Can't subset columns that don't exist.\n\u001b[31m✖\u001b[39m Column `paymentmethod` doesn't exist.\nTraceback:\n",
            "1. select(customer_df, -c(\"paymentmethod\", \"paperlessbilling\"))",
            "2. select.data.frame(customer_df, -c(\"paymentmethod\", \"paperlessbilling\"))",
            "3. tidyselect_fix_call(tidyselect::eval_select(expr(c(...)), .data), \n .     call = error_call)",
            "4. withCallingHandlers(expr, error = function(cnd) {\n .     cnd$call <- call\n .     cnd$parent <- NULL\n .     cnd_signal(cnd)\n . })",
            "5. tidyselect::eval_select(expr(c(...)), .data)",
            "6. eval_select_impl(data, names(data), as_quosure(expr, env), include = include, \n .     exclude = exclude, strict = strict, name_spec = name_spec, \n .     allow_rename = allow_rename, allow_empty = allow_empty, allow_predicates = allow_predicates, \n .     error_call = error_call, )",
            "7. with_subscript_errors(out <- vars_select_eval(vars, expr, strict = strict, \n .     data = x, name_spec = name_spec, uniquely_named = uniquely_named, \n .     allow_rename = allow_rename, allow_empty = allow_empty, allow_predicates = allow_predicates, \n .     type = type, error_call = error_call), type = type)",
            "8. try_fetch(expr, vctrs_error_subscript = function(cnd) {\n .     cnd$subscript_action <- subscript_action(type)\n .     cnd$subscript_elt <- \"column\"\n .     cnd_signal(cnd)\n . })",
            "9. withCallingHandlers(expr, vctrs_error_subscript = function(cnd) {\n .     {\n .         .__handler_frame__. <- TRUE\n .         .__setup_frame__. <- frame\n .     }\n .     out <- handlers[[1L]](cnd)\n .     if (!inherits(out, \"rlang_zap\")) \n .         throw(out)\n . })",
            "10. vars_select_eval(vars, expr, strict = strict, data = x, name_spec = name_spec, \n  .     uniquely_named = uniquely_named, allow_rename = allow_rename, \n  .     allow_empty = allow_empty, allow_predicates = allow_predicates, \n  .     type = type, error_call = error_call)",
            "11. walk_data_tree(expr, data_mask, context_mask)",
            "12. eval_c(expr, data_mask, context_mask)",
            "13. reduce_sels(node, data_mask, context_mask, init = init)",
            "14. walk_data_tree(new, data_mask, context_mask)",
            "15. eval_c(expr, data_mask, context_mask)",
            "16. reduce_sels(node, data_mask, context_mask, init = init)",
            "17. walk_data_tree(new, data_mask, context_mask)",
            "18. as_indices_sel_impl(out, vars = vars, strict = strict, data = data, \n  .     allow_predicates = allow_predicates, call = error_call, arg = as_label(expr))",
            "19. as_indices_impl(x, vars, call = call, arg = arg, strict = strict)",
            "20. chr_as_locations(x, vars, call = call, arg = arg)",
            "21. vctrs::vec_as_location(x, n = length(vars), names = vars, call = call, \n  .     arg = arg)",
            "22. (function () \n  . stop_subscript_oob(i = i, subscript_type = subscript_type, names = names, \n  .     subscript_action = subscript_action, subscript_arg = subscript_arg, \n  .     call = call))()",
            "23. stop_subscript_oob(i = i, subscript_type = subscript_type, names = names, \n  .     subscript_action = subscript_action, subscript_arg = subscript_arg, \n  .     call = call)",
            "24. stop_subscript(class = \"vctrs_error_subscript_oob\", i = i, subscript_type = subscript_type, \n  .     ..., call = call)",
            "25. abort(class = c(class, \"vctrs_error_subscript\"), i = i, ..., \n  .     call = vctrs_error_call(call))",
            "26. signal_abort(cnd, .file)",
            "27. signalCondition(cnd)",
            "28. (function (cnd) \n  . {\n  .     {\n  .         .__handler_frame__. <- TRUE\n  .         .__setup_frame__. <- frame\n  .     }\n  .     out <- handlers[[1L]](cnd)\n  .     if (!inherits(out, \"rlang_zap\")) \n  .         throw(out)\n  . })(structure(list(message = \"\", trace = structure(list(call = list(\n  .     IRkernel::main(), kernel$run(), handle_shell(), executor$execute(msg), \n  .     tryCatch(evaluate(request$content$code, envir = .GlobalEnv, \n  .         output_handler = oh, stop_on_error = 1L), interrupt = function(cond) {\n  .         log_debug(\"Interrupt during execution\")\n  .         interrupted <<- TRUE\n  .     }, error = .self$handle_error), tryCatchList(expr, classes, \n  .         parentenv, handlers), tryCatchOne(tryCatchList(expr, \n  .         names[-nh], parentenv, handlers[-nh]), names[nh], parentenv, \n  .         handlers[[nh]]), doTryCatch(return(expr), name, parentenv, \n  .         handler), tryCatchList(expr, names[-nh], parentenv, handlers[-nh]), \n  .     tryCatchOne(expr, names, parentenv, handlers[[1L]]), doTryCatch(return(expr), \n  .         name, parentenv, handler), evaluate(request$content$code, \n  .         envir = .GlobalEnv, output_handler = oh, stop_on_error = 1L), \n  .     evaluate_call(expr, parsed$src[[i]], envir = envir, enclos = enclos, \n  .         debug = debug, last = i == length(out), use_try = stop_on_error != \n  .             2L, keep_warning = keep_warning, keep_message = keep_message, \n  .         output_handler = output_handler, include_timing = include_timing), \n  .     timing_fn(handle(ev <- withCallingHandlers(withVisible(eval_with_user_handlers(expr, \n  .         envir, enclos, user_handlers)), warning = wHandler, error = eHandler, \n  .         message = mHandler))), handle(ev <- withCallingHandlers(withVisible(eval_with_user_handlers(expr, \n  .         envir, enclos, user_handlers)), warning = wHandler, error = eHandler, \n  .         message = mHandler)), try(f, silent = TRUE), tryCatch(expr, \n  .         error = function(e) {\n  .             call <- conditionCall(e)\n  .             if (!is.null(call)) {\n  .                 if (identical(call[[1L]], quote(doTryCatch))) \n  .                   call <- sys.call(-4L)\n  .                 dcall <- deparse(call, nlines = 1L)\n  .                 prefix <- paste(\"Error in\", dcall, \": \")\n  .                 LONG <- 75L\n  .                 sm <- strsplit(conditionMessage(e), \"\\n\")[[1L]]\n  .                 w <- 14L + nchar(dcall, type = \"w\") + nchar(sm[1L], \n  .                   type = \"w\")\n  .                 if (is.na(w)) \n  .                   w <- 14L + nchar(dcall, type = \"b\") + nchar(sm[1L], \n  .                     type = \"b\")\n  .                 if (w > LONG) \n  .                   prefix <- paste0(prefix, \"\\n  \")\n  .             }\n  .             else prefix <- \"Error : \"\n  .             msg <- paste0(prefix, conditionMessage(e), \"\\n\")\n  .             .Internal(seterrmessage(msg[1L]))\n  .             if (!silent && isTRUE(getOption(\"show.error.messages\"))) {\n  .                 cat(msg, file = outFile)\n  .                 .Internal(printDeferredWarnings())\n  .             }\n  .             invisible(structure(msg, class = \"try-error\", condition = e))\n  .         }), tryCatchList(expr, classes, parentenv, handlers), \n  .     tryCatchOne(expr, names, parentenv, handlers[[1L]]), doTryCatch(return(expr), \n  .         name, parentenv, handler), withCallingHandlers(withVisible(eval_with_user_handlers(expr, \n  .         envir, enclos, user_handlers)), warning = wHandler, error = eHandler, \n  .         message = mHandler), withVisible(eval_with_user_handlers(expr, \n  .         envir, enclos, user_handlers)), eval_with_user_handlers(expr, \n  .         envir, enclos, user_handlers), eval(expr, envir, enclos), \n  .     eval(expr, envir, enclos), select(customer_df, -c(\"paymentmethod\", \n  .         \"paperlessbilling\")), select.data.frame(customer_df, \n  .         -c(\"paymentmethod\", \"paperlessbilling\")), tidyselect_fix_call(tidyselect::eval_select(expr(c(...)), \n  .         .data), call = error_call), withCallingHandlers(expr, \n  .         error = function(cnd) {\n  .             cnd$call <- call\n  .             cnd$parent <- NULL\n  .             cnd_signal(cnd)\n  .         }), tidyselect::eval_select(expr(c(...)), .data), eval_select_impl(data, \n  .         names(data), as_quosure(expr, env), include = include, \n  .         exclude = exclude, strict = strict, name_spec = name_spec, \n  .         allow_rename = allow_rename, allow_empty = allow_empty, \n  .         allow_predicates = allow_predicates, error_call = error_call, \n  .         ), with_subscript_errors(out <- vars_select_eval(vars, \n  .         expr, strict = strict, data = x, name_spec = name_spec, \n  .         uniquely_named = uniquely_named, allow_rename = allow_rename, \n  .         allow_empty = allow_empty, allow_predicates = allow_predicates, \n  .         type = type, error_call = error_call), type = type), \n  .     try_fetch(expr, vctrs_error_subscript = function(cnd) {\n  .         cnd$subscript_action <- subscript_action(type)\n  .         cnd$subscript_elt <- \"column\"\n  .         cnd_signal(cnd)\n  .     }), withCallingHandlers(expr, vctrs_error_subscript = function(cnd) {\n  .         {\n  .             .__handler_frame__. <- TRUE\n  .             .__setup_frame__. <- frame\n  .         }\n  .         out <- handlers[[1L]](cnd)\n  .         if (!inherits(out, \"rlang_zap\")) \n  .             throw(out)\n  .     }), vars_select_eval(vars, expr, strict = strict, data = x, \n  .         name_spec = name_spec, uniquely_named = uniquely_named, \n  .         allow_rename = allow_rename, allow_empty = allow_empty, \n  .         allow_predicates = allow_predicates, type = type, error_call = error_call), \n  .     walk_data_tree(expr, data_mask, context_mask), eval_c(expr, \n  .         data_mask, context_mask), reduce_sels(node, data_mask, \n  .         context_mask, init = init), walk_data_tree(new, data_mask, \n  .         context_mask), eval_c(expr, data_mask, context_mask), \n  .     reduce_sels(node, data_mask, context_mask, init = init), \n  .     walk_data_tree(new, data_mask, context_mask), as_indices_sel_impl(out, \n  .         vars = vars, strict = strict, data = data, allow_predicates = allow_predicates, \n  .         call = error_call, arg = as_label(expr)), as_indices_impl(x, \n  .         vars, call = call, arg = arg, strict = strict), chr_as_locations(x, \n  .         vars, call = call, arg = arg), vctrs::vec_as_location(x, \n  .         n = length(vars), names = vars, call = call, arg = arg), \n  .     `<fn>`(), stop_subscript_oob(i = i, subscript_type = subscript_type, \n  .         names = names, subscript_action = subscript_action, subscript_arg = subscript_arg, \n  .         call = call), stop_subscript(class = \"vctrs_error_subscript_oob\", \n  .         i = i, subscript_type = subscript_type, ..., call = call), \n  .     abort(class = c(class, \"vctrs_error_subscript\"), i = i, ..., \n  .         call = vctrs_error_call(call))), parent = c(0L, 1L, 2L, \n  . 3L, 4L, 5L, 6L, 7L, 6L, 9L, 10L, 4L, 12L, 13L, 13L, 15L, 16L, \n  . 17L, 18L, 19L, 13L, 13L, 13L, 23L, 24L, 0L, 0L, 27L, 28L, 27L, \n  . 30L, 31L, 32L, 33L, 31L, 35L, 36L, 37L, 38L, 39L, 40L, 41L, 42L, \n  . 43L, 44L, 45L, 0L, 47L, 48L, 49L), visible = c(TRUE, TRUE, TRUE, \n  . TRUE, TRUE, TRUE, TRUE, TRUE, TRUE, TRUE, TRUE, TRUE, TRUE, TRUE, \n  . TRUE, TRUE, TRUE, TRUE, TRUE, TRUE, TRUE, TRUE, TRUE, TRUE, TRUE, \n  . TRUE, TRUE, FALSE, FALSE, FALSE, FALSE, FALSE, FALSE, FALSE, \n  . FALSE, FALSE, FALSE, FALSE, FALSE, FALSE, FALSE, FALSE, FALSE, \n  . FALSE, FALSE, FALSE, FALSE, FALSE, FALSE, FALSE), namespace = c(\"IRkernel\", \n  . NA, \"IRkernel\", NA, \"base\", \"base\", \"base\", \"base\", \"base\", \"base\", \n  . \"base\", \"evaluate\", \"evaluate\", \"evaluate\", \"evaluate\", \"base\", \n  . \"base\", \"base\", \"base\", \"base\", \"base\", \"base\", \"evaluate\", \"base\", \n  . \"base\", \"dplyr\", \"dplyr\", \"dplyr\", \"base\", \"tidyselect\", \"tidyselect\", \n  . \"tidyselect\", \"rlang\", \"base\", \"tidyselect\", \"tidyselect\", \"tidyselect\", \n  . \"tidyselect\", \"tidyselect\", \"tidyselect\", \"tidyselect\", \"tidyselect\", \n  . \"tidyselect\", \"tidyselect\", \"tidyselect\", \"vctrs\", \"vctrs\", \"vctrs\", \n  . \"vctrs\", \"rlang\"), scope = c(\"::\", NA, \"local\", NA, \"::\", \"local\", \n  . \"local\", \"local\", \"local\", \"local\", \"local\", \"::\", \":::\", \"local\", \n  . \"local\", \"::\", \"::\", \"local\", \"local\", \"local\", \"::\", \"::\", \":::\", \n  . \"::\", \"::\", \"::\", \":::\", \":::\", \"::\", \"::\", \":::\", \":::\", \"::\", \n  . \"::\", \":::\", \":::\", \":::\", \":::\", \":::\", \":::\", \":::\", \":::\", \n  . \":::\", \":::\", \":::\", \"::\", \"local\", \":::\", \":::\", \"::\"), error_frame = c(FALSE, \n  . FALSE, FALSE, FALSE, FALSE, FALSE, FALSE, FALSE, FALSE, FALSE, \n  . FALSE, FALSE, FALSE, FALSE, FALSE, FALSE, FALSE, FALSE, FALSE, \n  . FALSE, FALSE, FALSE, FALSE, FALSE, FALSE, FALSE, TRUE, FALSE, \n  . FALSE, FALSE, FALSE, FALSE, FALSE, FALSE, FALSE, FALSE, FALSE, \n  . FALSE, FALSE, FALSE, FALSE, FALSE, FALSE, FALSE, FALSE, FALSE, \n  . FALSE, FALSE, FALSE, FALSE)), row.names = c(NA, -50L), version = 2L, class = c(\"rlang_trace\", \n  . \"rlib_trace\", \"tbl\", \"data.frame\")), parent = NULL, i = \"paymentmethod\", \n  .     subscript_type = \"character\", names = c(\"customerid\", \"gender\", \n  .     \"seniorcitizen\", \"partner\", \"dependents\", \"tenure\", \"phoneservice\", \n  .     \"multiplelines\", \"internetservice\", \"onlinesecurity\", \"onlinebackup\", \n  .     \"deviceprotection\", \"techsupport\", \"streamingtv\", \"streamingmovies\", \n  .     \"contract\", \"monthlycharges\", \"totalcharges\", \"churn\"), subscript_action = NULL, \n  .     subscript_arg = \"\\\"paymentmethod\\\"\", call = select(customer_df, \n  .         -c(\"paymentmethod\", \"paperlessbilling\"))), class = c(\"vctrs_error_subscript_oob\", \n  . \"vctrs_error_subscript\", \"rlang_error\", \"error\", \"condition\")))",
            "29. handlers[[1L]](cnd)",
            "30. cnd_signal(cnd)",
            "31. signal_abort(cnd)",
            "32. signalCondition(cnd)",
            "33. (function (cnd) \n  . {\n  .     cnd$call <- call\n  .     cnd$parent <- NULL\n  .     cnd_signal(cnd)\n  . })(structure(list(message = \"\", trace = structure(list(call = list(\n  .     IRkernel::main(), kernel$run(), handle_shell(), executor$execute(msg), \n  .     tryCatch(evaluate(request$content$code, envir = .GlobalEnv, \n  .         output_handler = oh, stop_on_error = 1L), interrupt = function(cond) {\n  .         log_debug(\"Interrupt during execution\")\n  .         interrupted <<- TRUE\n  .     }, error = .self$handle_error), tryCatchList(expr, classes, \n  .         parentenv, handlers), tryCatchOne(tryCatchList(expr, \n  .         names[-nh], parentenv, handlers[-nh]), names[nh], parentenv, \n  .         handlers[[nh]]), doTryCatch(return(expr), name, parentenv, \n  .         handler), tryCatchList(expr, names[-nh], parentenv, handlers[-nh]), \n  .     tryCatchOne(expr, names, parentenv, handlers[[1L]]), doTryCatch(return(expr), \n  .         name, parentenv, handler), evaluate(request$content$code, \n  .         envir = .GlobalEnv, output_handler = oh, stop_on_error = 1L), \n  .     evaluate_call(expr, parsed$src[[i]], envir = envir, enclos = enclos, \n  .         debug = debug, last = i == length(out), use_try = stop_on_error != \n  .             2L, keep_warning = keep_warning, keep_message = keep_message, \n  .         output_handler = output_handler, include_timing = include_timing), \n  .     timing_fn(handle(ev <- withCallingHandlers(withVisible(eval_with_user_handlers(expr, \n  .         envir, enclos, user_handlers)), warning = wHandler, error = eHandler, \n  .         message = mHandler))), handle(ev <- withCallingHandlers(withVisible(eval_with_user_handlers(expr, \n  .         envir, enclos, user_handlers)), warning = wHandler, error = eHandler, \n  .         message = mHandler)), try(f, silent = TRUE), tryCatch(expr, \n  .         error = function(e) {\n  .             call <- conditionCall(e)\n  .             if (!is.null(call)) {\n  .                 if (identical(call[[1L]], quote(doTryCatch))) \n  .                   call <- sys.call(-4L)\n  .                 dcall <- deparse(call, nlines = 1L)\n  .                 prefix <- paste(\"Error in\", dcall, \": \")\n  .                 LONG <- 75L\n  .                 sm <- strsplit(conditionMessage(e), \"\\n\")[[1L]]\n  .                 w <- 14L + nchar(dcall, type = \"w\") + nchar(sm[1L], \n  .                   type = \"w\")\n  .                 if (is.na(w)) \n  .                   w <- 14L + nchar(dcall, type = \"b\") + nchar(sm[1L], \n  .                     type = \"b\")\n  .                 if (w > LONG) \n  .                   prefix <- paste0(prefix, \"\\n  \")\n  .             }\n  .             else prefix <- \"Error : \"\n  .             msg <- paste0(prefix, conditionMessage(e), \"\\n\")\n  .             .Internal(seterrmessage(msg[1L]))\n  .             if (!silent && isTRUE(getOption(\"show.error.messages\"))) {\n  .                 cat(msg, file = outFile)\n  .                 .Internal(printDeferredWarnings())\n  .             }\n  .             invisible(structure(msg, class = \"try-error\", condition = e))\n  .         }), tryCatchList(expr, classes, parentenv, handlers), \n  .     tryCatchOne(expr, names, parentenv, handlers[[1L]]), doTryCatch(return(expr), \n  .         name, parentenv, handler), withCallingHandlers(withVisible(eval_with_user_handlers(expr, \n  .         envir, enclos, user_handlers)), warning = wHandler, error = eHandler, \n  .         message = mHandler), withVisible(eval_with_user_handlers(expr, \n  .         envir, enclos, user_handlers)), eval_with_user_handlers(expr, \n  .         envir, enclos, user_handlers), eval(expr, envir, enclos), \n  .     eval(expr, envir, enclos), select(customer_df, -c(\"paymentmethod\", \n  .         \"paperlessbilling\")), select.data.frame(customer_df, \n  .         -c(\"paymentmethod\", \"paperlessbilling\")), tidyselect_fix_call(tidyselect::eval_select(expr(c(...)), \n  .         .data), call = error_call), withCallingHandlers(expr, \n  .         error = function(cnd) {\n  .             cnd$call <- call\n  .             cnd$parent <- NULL\n  .             cnd_signal(cnd)\n  .         }), tidyselect::eval_select(expr(c(...)), .data), eval_select_impl(data, \n  .         names(data), as_quosure(expr, env), include = include, \n  .         exclude = exclude, strict = strict, name_spec = name_spec, \n  .         allow_rename = allow_rename, allow_empty = allow_empty, \n  .         allow_predicates = allow_predicates, error_call = error_call, \n  .         ), with_subscript_errors(out <- vars_select_eval(vars, \n  .         expr, strict = strict, data = x, name_spec = name_spec, \n  .         uniquely_named = uniquely_named, allow_rename = allow_rename, \n  .         allow_empty = allow_empty, allow_predicates = allow_predicates, \n  .         type = type, error_call = error_call), type = type), \n  .     try_fetch(expr, vctrs_error_subscript = function(cnd) {\n  .         cnd$subscript_action <- subscript_action(type)\n  .         cnd$subscript_elt <- \"column\"\n  .         cnd_signal(cnd)\n  .     }), withCallingHandlers(expr, vctrs_error_subscript = function(cnd) {\n  .         {\n  .             .__handler_frame__. <- TRUE\n  .             .__setup_frame__. <- frame\n  .         }\n  .         out <- handlers[[1L]](cnd)\n  .         if (!inherits(out, \"rlang_zap\")) \n  .             throw(out)\n  .     }), vars_select_eval(vars, expr, strict = strict, data = x, \n  .         name_spec = name_spec, uniquely_named = uniquely_named, \n  .         allow_rename = allow_rename, allow_empty = allow_empty, \n  .         allow_predicates = allow_predicates, type = type, error_call = error_call), \n  .     walk_data_tree(expr, data_mask, context_mask), eval_c(expr, \n  .         data_mask, context_mask), reduce_sels(node, data_mask, \n  .         context_mask, init = init), walk_data_tree(new, data_mask, \n  .         context_mask), eval_c(expr, data_mask, context_mask), \n  .     reduce_sels(node, data_mask, context_mask, init = init), \n  .     walk_data_tree(new, data_mask, context_mask), as_indices_sel_impl(out, \n  .         vars = vars, strict = strict, data = data, allow_predicates = allow_predicates, \n  .         call = error_call, arg = as_label(expr)), as_indices_impl(x, \n  .         vars, call = call, arg = arg, strict = strict), chr_as_locations(x, \n  .         vars, call = call, arg = arg), vctrs::vec_as_location(x, \n  .         n = length(vars), names = vars, call = call, arg = arg), \n  .     `<fn>`(), stop_subscript_oob(i = i, subscript_type = subscript_type, \n  .         names = names, subscript_action = subscript_action, subscript_arg = subscript_arg, \n  .         call = call), stop_subscript(class = \"vctrs_error_subscript_oob\", \n  .         i = i, subscript_type = subscript_type, ..., call = call), \n  .     abort(class = c(class, \"vctrs_error_subscript\"), i = i, ..., \n  .         call = vctrs_error_call(call))), parent = c(0L, 1L, 2L, \n  . 3L, 4L, 5L, 6L, 7L, 6L, 9L, 10L, 4L, 12L, 13L, 13L, 15L, 16L, \n  . 17L, 18L, 19L, 13L, 13L, 13L, 23L, 24L, 0L, 0L, 27L, 28L, 27L, \n  . 30L, 31L, 32L, 33L, 31L, 35L, 36L, 37L, 38L, 39L, 40L, 41L, 42L, \n  . 43L, 44L, 45L, 0L, 47L, 48L, 49L), visible = c(TRUE, TRUE, TRUE, \n  . TRUE, TRUE, TRUE, TRUE, TRUE, TRUE, TRUE, TRUE, TRUE, TRUE, TRUE, \n  . TRUE, TRUE, TRUE, TRUE, TRUE, TRUE, TRUE, TRUE, TRUE, TRUE, TRUE, \n  . TRUE, TRUE, FALSE, FALSE, FALSE, FALSE, FALSE, FALSE, FALSE, \n  . FALSE, FALSE, FALSE, FALSE, FALSE, FALSE, FALSE, FALSE, FALSE, \n  . FALSE, FALSE, FALSE, FALSE, FALSE, FALSE, FALSE), namespace = c(\"IRkernel\", \n  . NA, \"IRkernel\", NA, \"base\", \"base\", \"base\", \"base\", \"base\", \"base\", \n  . \"base\", \"evaluate\", \"evaluate\", \"evaluate\", \"evaluate\", \"base\", \n  . \"base\", \"base\", \"base\", \"base\", \"base\", \"base\", \"evaluate\", \"base\", \n  . \"base\", \"dplyr\", \"dplyr\", \"dplyr\", \"base\", \"tidyselect\", \"tidyselect\", \n  . \"tidyselect\", \"rlang\", \"base\", \"tidyselect\", \"tidyselect\", \"tidyselect\", \n  . \"tidyselect\", \"tidyselect\", \"tidyselect\", \"tidyselect\", \"tidyselect\", \n  . \"tidyselect\", \"tidyselect\", \"tidyselect\", \"vctrs\", \"vctrs\", \"vctrs\", \n  . \"vctrs\", \"rlang\"), scope = c(\"::\", NA, \"local\", NA, \"::\", \"local\", \n  . \"local\", \"local\", \"local\", \"local\", \"local\", \"::\", \":::\", \"local\", \n  . \"local\", \"::\", \"::\", \"local\", \"local\", \"local\", \"::\", \"::\", \":::\", \n  . \"::\", \"::\", \"::\", \":::\", \":::\", \"::\", \"::\", \":::\", \":::\", \"::\", \n  . \"::\", \":::\", \":::\", \":::\", \":::\", \":::\", \":::\", \":::\", \":::\", \n  . \":::\", \":::\", \":::\", \"::\", \"local\", \":::\", \":::\", \"::\"), error_frame = c(FALSE, \n  . FALSE, FALSE, FALSE, FALSE, FALSE, FALSE, FALSE, FALSE, FALSE, \n  . FALSE, FALSE, FALSE, FALSE, FALSE, FALSE, FALSE, FALSE, FALSE, \n  . FALSE, FALSE, FALSE, FALSE, FALSE, FALSE, FALSE, TRUE, FALSE, \n  . FALSE, FALSE, FALSE, FALSE, FALSE, FALSE, FALSE, FALSE, FALSE, \n  . FALSE, FALSE, FALSE, FALSE, FALSE, FALSE, FALSE, FALSE, FALSE, \n  . FALSE, FALSE, FALSE, FALSE)), row.names = c(NA, -50L), version = 2L, class = c(\"rlang_trace\", \n  . \"rlib_trace\", \"tbl\", \"data.frame\")), parent = NULL, i = \"paymentmethod\", \n  .     subscript_type = \"character\", names = c(\"customerid\", \"gender\", \n  .     \"seniorcitizen\", \"partner\", \"dependents\", \"tenure\", \"phoneservice\", \n  .     \"multiplelines\", \"internetservice\", \"onlinesecurity\", \"onlinebackup\", \n  .     \"deviceprotection\", \"techsupport\", \"streamingtv\", \"streamingmovies\", \n  .     \"contract\", \"monthlycharges\", \"totalcharges\", \"churn\"), subscript_action = \"subset\", \n  .     subscript_arg = \"\\\"paymentmethod\\\"\", call = select(customer_df, \n  .         -c(\"paymentmethod\", \"paperlessbilling\")), subscript_elt = \"column\"), class = c(\"vctrs_error_subscript_oob\", \n  . \"vctrs_error_subscript\", \"rlang_error\", \"error\", \"condition\")))",
            "34. cnd_signal(cnd)",
            "35. signal_abort(cnd)"
          ]
        }
      ]
    },
    {
      "cell_type": "markdown",
      "source": [
        "## Step 6. Find and Deal with Duplicates \n",
        "\n",
        "Sometimes duplicates can mislead our analysis. Let's find and leave them out from our dataset."
      ],
      "metadata": {
        "id": "bJHunIbwWKs2"
      }
    },
    {
      "cell_type": "code",
      "source": [
        "dim(customer_df)"
      ],
      "metadata": {
        "colab": {
          "base_uri": "https://localhost:8080/",
          "height": 34
        },
        "id": "APxxdbSVVtXj",
        "outputId": "e0d76081-53ec-48f5-87c1-d10c87f47dd6"
      },
      "execution_count": null,
      "outputs": [
        {
          "output_type": "display_data",
          "data": {
            "text/html": [
              "<style>\n",
              ".list-inline {list-style: none; margin:0; padding: 0}\n",
              ".list-inline>li {display: inline-block}\n",
              ".list-inline>li:not(:last-child)::after {content: \"\\00b7\"; padding: 0 .5ex}\n",
              "</style>\n",
              "<ol class=list-inline><li>7050</li><li>19</li></ol>\n"
            ],
            "text/markdown": "1. 7050\n2. 19\n\n\n",
            "text/latex": "\\begin{enumerate*}\n\\item 7050\n\\item 19\n\\end{enumerate*}\n",
            "text/plain": [
              "[1] 7050   19"
            ]
          },
          "metadata": {}
        }
      ]
    },
    {
      "cell_type": "code",
      "source": [
        "# Extract the duplicated records from the dataset\n",
        "# We use x[duplicated(x),], where x is the dataframe\n",
        "\n",
        "customer_df[duplicated(customer_df), ]"
      ],
      "metadata": {
        "colab": {
          "base_uri": "https://localhost:8080/",
          "height": 459
        },
        "id": "MJUk9hDhWNHf",
        "outputId": "0dc86eec-5b21-45b9-a2da-20e76201c3c1"
      },
      "execution_count": null,
      "outputs": [
        {
          "output_type": "display_data",
          "data": {
            "text/html": [
              "<table class=\"dataframe\">\n",
              "<caption>A tibble: 7 × 19</caption>\n",
              "<thead>\n",
              "\t<tr><th scope=col>customerid</th><th scope=col>gender</th><th scope=col>seniorcitizen</th><th scope=col>partner</th><th scope=col>dependents</th><th scope=col>tenure</th><th scope=col>phoneservice</th><th scope=col>multiplelines</th><th scope=col>internetservice</th><th scope=col>onlinesecurity</th><th scope=col>onlinebackup</th><th scope=col>deviceprotection</th><th scope=col>techsupport</th><th scope=col>streamingtv</th><th scope=col>streamingmovies</th><th scope=col>contract</th><th scope=col>monthlycharges</th><th scope=col>totalcharges</th><th scope=col>churn</th></tr>\n",
              "\t<tr><th scope=col>&lt;chr&gt;</th><th scope=col>&lt;chr&gt;</th><th scope=col>&lt;dbl&gt;</th><th scope=col>&lt;chr&gt;</th><th scope=col>&lt;chr&gt;</th><th scope=col>&lt;dbl&gt;</th><th scope=col>&lt;chr&gt;</th><th scope=col>&lt;chr&gt;</th><th scope=col>&lt;chr&gt;</th><th scope=col>&lt;chr&gt;</th><th scope=col>&lt;chr&gt;</th><th scope=col>&lt;chr&gt;</th><th scope=col>&lt;chr&gt;</th><th scope=col>&lt;chr&gt;</th><th scope=col>&lt;chr&gt;</th><th scope=col>&lt;chr&gt;</th><th scope=col>&lt;dbl&gt;</th><th scope=col>&lt;dbl&gt;</th><th scope=col>&lt;chr&gt;</th></tr>\n",
              "</thead>\n",
              "<tbody>\n",
              "\t<tr><td>6876-ADESB</td><td>Male  </td><td>0</td><td>No </td><td>Yes</td><td> 1</td><td>Yes</td><td>No              </td><td>DSL        </td><td>No </td><td>No </td><td>Yes</td><td>No </td><td>No </td><td>No </td><td>Month-to-month</td><td>48.95</td><td>  48.95</td><td>Yes</td></tr>\n",
              "\t<tr><td>1427-VERSM</td><td>Female</td><td>0</td><td>Yes</td><td>No </td><td>56</td><td>Yes</td><td>No              </td><td>Fiber optic</td><td>No </td><td>No </td><td>Yes</td><td>Yes</td><td>Yes</td><td>Yes</td><td>Month-to-month</td><td>98.70</td><td>5669.50</td><td>No </td></tr>\n",
              "\t<tr><td>3967-KXAPS</td><td>Male  </td><td>0</td><td>Yes</td><td>No </td><td>72</td><td>Yes</td><td>Yes             </td><td>DSL        </td><td>Yes</td><td>Yes</td><td>Yes</td><td>Yes</td><td>Yes</td><td>Yes</td><td>Two year      </td><td>92.30</td><td>6719.90</td><td>No </td></tr>\n",
              "\t<tr><td>3967-KXAPS</td><td>Male  </td><td>0</td><td>Yes</td><td>No </td><td>72</td><td>Yes</td><td>Yes             </td><td>DSL        </td><td>Yes</td><td>Yes</td><td>Yes</td><td>Yes</td><td>Yes</td><td>Yes</td><td>Two year      </td><td>92.30</td><td>6719.90</td><td>No </td></tr>\n",
              "\t<tr><td>2314-TNDJQ</td><td>Female</td><td>0</td><td>Yes</td><td>Yes</td><td>72</td><td>No </td><td>No phone service</td><td>DSL        </td><td>Yes</td><td>Yes</td><td>Yes</td><td>Yes</td><td>No </td><td>Yes</td><td>Two year      </td><td>55.65</td><td>3880.05</td><td>No </td></tr>\n",
              "\t<tr><td>2314-TNDJQ</td><td>Female</td><td>0</td><td>Yes</td><td>Yes</td><td>72</td><td>No </td><td>No phone service</td><td>DSL        </td><td>Yes</td><td>Yes</td><td>Yes</td><td>Yes</td><td>No </td><td>Yes</td><td>Two year      </td><td>55.65</td><td>3880.05</td><td>No </td></tr>\n",
              "\t<tr><td>4501-VCPFK</td><td>Male  </td><td>0</td><td>No </td><td>No </td><td>26</td><td>No </td><td>No phone service</td><td>DSL        </td><td>No </td><td>No </td><td>Yes</td><td>Yes</td><td>No </td><td>No </td><td>Month-to-month</td><td>35.75</td><td>1022.50</td><td>No </td></tr>\n",
              "</tbody>\n",
              "</table>\n"
            ],
            "text/markdown": "\nA tibble: 7 × 19\n\n| customerid &lt;chr&gt; | gender &lt;chr&gt; | seniorcitizen &lt;dbl&gt; | partner &lt;chr&gt; | dependents &lt;chr&gt; | tenure &lt;dbl&gt; | phoneservice &lt;chr&gt; | multiplelines &lt;chr&gt; | internetservice &lt;chr&gt; | onlinesecurity &lt;chr&gt; | onlinebackup &lt;chr&gt; | deviceprotection &lt;chr&gt; | techsupport &lt;chr&gt; | streamingtv &lt;chr&gt; | streamingmovies &lt;chr&gt; | contract &lt;chr&gt; | monthlycharges &lt;dbl&gt; | totalcharges &lt;dbl&gt; | churn &lt;chr&gt; |\n|---|---|---|---|---|---|---|---|---|---|---|---|---|---|---|---|---|---|---|\n| 6876-ADESB | Male   | 0 | No  | Yes |  1 | Yes | No               | DSL         | No  | No  | Yes | No  | No  | No  | Month-to-month | 48.95 |   48.95 | Yes |\n| 1427-VERSM | Female | 0 | Yes | No  | 56 | Yes | No               | Fiber optic | No  | No  | Yes | Yes | Yes | Yes | Month-to-month | 98.70 | 5669.50 | No  |\n| 3967-KXAPS | Male   | 0 | Yes | No  | 72 | Yes | Yes              | DSL         | Yes | Yes | Yes | Yes | Yes | Yes | Two year       | 92.30 | 6719.90 | No  |\n| 3967-KXAPS | Male   | 0 | Yes | No  | 72 | Yes | Yes              | DSL         | Yes | Yes | Yes | Yes | Yes | Yes | Two year       | 92.30 | 6719.90 | No  |\n| 2314-TNDJQ | Female | 0 | Yes | Yes | 72 | No  | No phone service | DSL         | Yes | Yes | Yes | Yes | No  | Yes | Two year       | 55.65 | 3880.05 | No  |\n| 2314-TNDJQ | Female | 0 | Yes | Yes | 72 | No  | No phone service | DSL         | Yes | Yes | Yes | Yes | No  | Yes | Two year       | 55.65 | 3880.05 | No  |\n| 4501-VCPFK | Male   | 0 | No  | No  | 26 | No  | No phone service | DSL         | No  | No  | Yes | Yes | No  | No  | Month-to-month | 35.75 | 1022.50 | No  |\n\n",
            "text/latex": "A tibble: 7 × 19\n\\begin{tabular}{lllllllllllllllllll}\n customerid & gender & seniorcitizen & partner & dependents & tenure & phoneservice & multiplelines & internetservice & onlinesecurity & onlinebackup & deviceprotection & techsupport & streamingtv & streamingmovies & contract & monthlycharges & totalcharges & churn\\\\\n <chr> & <chr> & <dbl> & <chr> & <chr> & <dbl> & <chr> & <chr> & <chr> & <chr> & <chr> & <chr> & <chr> & <chr> & <chr> & <chr> & <dbl> & <dbl> & <chr>\\\\\n\\hline\n\t 6876-ADESB & Male   & 0 & No  & Yes &  1 & Yes & No               & DSL         & No  & No  & Yes & No  & No  & No  & Month-to-month & 48.95 &   48.95 & Yes\\\\\n\t 1427-VERSM & Female & 0 & Yes & No  & 56 & Yes & No               & Fiber optic & No  & No  & Yes & Yes & Yes & Yes & Month-to-month & 98.70 & 5669.50 & No \\\\\n\t 3967-KXAPS & Male   & 0 & Yes & No  & 72 & Yes & Yes              & DSL         & Yes & Yes & Yes & Yes & Yes & Yes & Two year       & 92.30 & 6719.90 & No \\\\\n\t 3967-KXAPS & Male   & 0 & Yes & No  & 72 & Yes & Yes              & DSL         & Yes & Yes & Yes & Yes & Yes & Yes & Two year       & 92.30 & 6719.90 & No \\\\\n\t 2314-TNDJQ & Female & 0 & Yes & Yes & 72 & No  & No phone service & DSL         & Yes & Yes & Yes & Yes & No  & Yes & Two year       & 55.65 & 3880.05 & No \\\\\n\t 2314-TNDJQ & Female & 0 & Yes & Yes & 72 & No  & No phone service & DSL         & Yes & Yes & Yes & Yes & No  & Yes & Two year       & 55.65 & 3880.05 & No \\\\\n\t 4501-VCPFK & Male   & 0 & No  & No  & 26 & No  & No phone service & DSL         & No  & No  & Yes & Yes & No  & No  & Month-to-month & 35.75 & 1022.50 & No \\\\\n\\end{tabular}\n",
            "text/plain": [
              "  customerid gender seniorcitizen partner dependents tenure phoneservice\n",
              "1 6876-ADESB Male   0             No      Yes         1     Yes         \n",
              "2 1427-VERSM Female 0             Yes     No         56     Yes         \n",
              "3 3967-KXAPS Male   0             Yes     No         72     Yes         \n",
              "4 3967-KXAPS Male   0             Yes     No         72     Yes         \n",
              "5 2314-TNDJQ Female 0             Yes     Yes        72     No          \n",
              "6 2314-TNDJQ Female 0             Yes     Yes        72     No          \n",
              "7 4501-VCPFK Male   0             No      No         26     No          \n",
              "  multiplelines    internetservice onlinesecurity onlinebackup deviceprotection\n",
              "1 No               DSL             No             No           Yes             \n",
              "2 No               Fiber optic     No             No           Yes             \n",
              "3 Yes              DSL             Yes            Yes          Yes             \n",
              "4 Yes              DSL             Yes            Yes          Yes             \n",
              "5 No phone service DSL             Yes            Yes          Yes             \n",
              "6 No phone service DSL             Yes            Yes          Yes             \n",
              "7 No phone service DSL             No             No           Yes             \n",
              "  techsupport streamingtv streamingmovies contract       monthlycharges\n",
              "1 No          No          No              Month-to-month 48.95         \n",
              "2 Yes         Yes         Yes             Month-to-month 98.70         \n",
              "3 Yes         Yes         Yes             Two year       92.30         \n",
              "4 Yes         Yes         Yes             Two year       92.30         \n",
              "5 Yes         No          Yes             Two year       55.65         \n",
              "6 Yes         No          Yes             Two year       55.65         \n",
              "7 Yes         No          No              Month-to-month 35.75         \n",
              "  totalcharges churn\n",
              "1   48.95      Yes  \n",
              "2 5669.50      No   \n",
              "3 6719.90      No   \n",
              "4 6719.90      No   \n",
              "5 3880.05      No   \n",
              "6 3880.05      No   \n",
              "7 1022.50      No   "
            ]
          },
          "metadata": {}
        }
      ]
    },
    {
      "cell_type": "markdown",
      "source": [
        "* **Observation**: Only 7 records are duplicated"
      ],
      "metadata": {
        "id": "IfCRZCvLWSw5"
      }
    },
    {
      "cell_type": "code",
      "source": [
        "# Let's drop the duplicates by adding a logical negation `!` infront of the duplicated function\n",
        "customer_df <- customer_df[!duplicated(customer_df), ]\n",
        "\n",
        "dim(customer_df)"
      ],
      "metadata": {
        "colab": {
          "base_uri": "https://localhost:8080/",
          "height": 34
        },
        "id": "sUoXuDXrWQP5",
        "outputId": "20463392-8e9b-4f6b-db07-abaaf3d2b867"
      },
      "execution_count": null,
      "outputs": [
        {
          "output_type": "display_data",
          "data": {
            "text/html": [
              "<style>\n",
              ".list-inline {list-style: none; margin:0; padding: 0}\n",
              ".list-inline>li {display: inline-block}\n",
              ".list-inline>li:not(:last-child)::after {content: \"\\00b7\"; padding: 0 .5ex}\n",
              "</style>\n",
              "<ol class=list-inline><li>7043</li><li>19</li></ol>\n"
            ],
            "text/markdown": "1. 7043\n2. 19\n\n\n",
            "text/latex": "\\begin{enumerate*}\n\\item 7043\n\\item 19\n\\end{enumerate*}\n",
            "text/plain": [
              "[1] 7043   19"
            ]
          },
          "metadata": {}
        }
      ]
    },
    {
      "cell_type": "markdown",
      "source": [
        "## Step 7. Missing data\n",
        "\n",
        "To avoid wrong data analysis conclusions, we will find and handle missing data.\n"
      ],
      "metadata": {
        "id": "3kN31WCJWdov"
      }
    },
    {
      "cell_type": "markdown",
      "source": [
        "### 7.1 Find missing values"
      ],
      "metadata": {
        "id": "l296kxFCWjdI"
      }
    },
    {
      "cell_type": "code",
      "source": [
        "# Find the total missing values in each column using the `colSums()` function\n",
        "colSums(is.na(customer_df))"
      ],
      "metadata": {
        "colab": {
          "base_uri": "https://localhost:8080/",
          "height": 69
        },
        "id": "IDQmTn0-Wa0U",
        "outputId": "8a00f0ee-34bf-49e8-81f1-95af155087f2"
      },
      "execution_count": null,
      "outputs": [
        {
          "output_type": "display_data",
          "data": {
            "text/html": [
              "<style>\n",
              ".dl-inline {width: auto; margin:0; padding: 0}\n",
              ".dl-inline>dt, .dl-inline>dd {float: none; width: auto; display: inline-block}\n",
              ".dl-inline>dt::after {content: \":\\0020\"; padding-right: .5ex}\n",
              ".dl-inline>dt:not(:first-of-type) {padding-left: .5ex}\n",
              "</style><dl class=dl-inline><dt>customerid</dt><dd>0</dd><dt>gender</dt><dd>1</dd><dt>seniorcitizen</dt><dd>3</dd><dt>partner</dt><dd>12</dd><dt>dependents</dt><dd>10</dd><dt>tenure</dt><dd>11</dd><dt>phoneservice</dt><dd>15</dd><dt>multiplelines</dt><dd>17</dd><dt>internetservice</dt><dd>16</dd><dt>onlinesecurity</dt><dd>16</dd><dt>onlinebackup</dt><dd>15</dd><dt>deviceprotection</dt><dd>14</dd><dt>techsupport</dt><dd>13</dd><dt>streamingtv</dt><dd>13</dd><dt>streamingmovies</dt><dd>12</dd><dt>contract</dt><dd>12</dd><dt>monthlycharges</dt><dd>12</dd><dt>totalcharges</dt><dd>23</dd><dt>churn</dt><dd>12</dd></dl>\n"
            ],
            "text/markdown": "customerid\n:   0gender\n:   1seniorcitizen\n:   3partner\n:   12dependents\n:   10tenure\n:   11phoneservice\n:   15multiplelines\n:   17internetservice\n:   16onlinesecurity\n:   16onlinebackup\n:   15deviceprotection\n:   14techsupport\n:   13streamingtv\n:   13streamingmovies\n:   12contract\n:   12monthlycharges\n:   12totalcharges\n:   23churn\n:   12\n\n",
            "text/latex": "\\begin{description*}\n\\item[customerid] 0\n\\item[gender] 1\n\\item[seniorcitizen] 3\n\\item[partner] 12\n\\item[dependents] 10\n\\item[tenure] 11\n\\item[phoneservice] 15\n\\item[multiplelines] 17\n\\item[internetservice] 16\n\\item[onlinesecurity] 16\n\\item[onlinebackup] 15\n\\item[deviceprotection] 14\n\\item[techsupport] 13\n\\item[streamingtv] 13\n\\item[streamingmovies] 12\n\\item[contract] 12\n\\item[monthlycharges] 12\n\\item[totalcharges] 23\n\\item[churn] 12\n\\end{description*}\n",
            "text/plain": [
              "      customerid           gender    seniorcitizen          partner \n",
              "               0                1                3               12 \n",
              "      dependents           tenure     phoneservice    multiplelines \n",
              "              10               11               15               17 \n",
              " internetservice   onlinesecurity     onlinebackup deviceprotection \n",
              "              16               16               15               14 \n",
              "     techsupport      streamingtv  streamingmovies         contract \n",
              "              13               13               12               12 \n",
              "  monthlycharges     totalcharges            churn \n",
              "              12               23               12 "
            ]
          },
          "metadata": {}
        }
      ]
    },
    {
      "cell_type": "markdown",
      "source": [
        "* **Observation**: all columns have missing data except the customerid column. The totalcharges column has the most missing values."
      ],
      "metadata": {
        "id": "AbpLyfYEWxvF"
      }
    },
    {
      "cell_type": "markdown",
      "source": [
        "### 7.2 Handle missing values\n",
        "There are various ways of handling missing data. These include but not limited to dropping all rows containing missing values AND imputing the missing values in a column with a number/mean/median/etc."
      ],
      "metadata": {
        "id": "hsrfPeT2W2Gs"
      }
    },
    {
      "cell_type": "code",
      "source": [
        "# Let's drop all records containing missing values using the na.omit() function\n",
        "clean_df <- na.omit(customer_df)\n",
        "dim(clean_df)"
      ],
      "metadata": {
        "colab": {
          "base_uri": "https://localhost:8080/",
          "height": 34
        },
        "id": "xGOus7uMWuVT",
        "outputId": "44726a69-5d93-4516-ad1f-53244dddb348"
      },
      "execution_count": null,
      "outputs": [
        {
          "output_type": "display_data",
          "data": {
            "text/html": [
              "<style>\n",
              ".list-inline {list-style: none; margin:0; padding: 0}\n",
              ".list-inline>li {display: inline-block}\n",
              ".list-inline>li:not(:last-child)::after {content: \"\\00b7\"; padding: 0 .5ex}\n",
              "</style>\n",
              "<ol class=list-inline><li>7003</li><li>19</li></ol>\n"
            ],
            "text/markdown": "1. 7003\n2. 19\n\n\n",
            "text/latex": "\\begin{enumerate*}\n\\item 7003\n\\item 19\n\\end{enumerate*}\n",
            "text/plain": [
              "[1] 7003   19"
            ]
          },
          "metadata": {}
        }
      ]
    },
    {
      "cell_type": "markdown",
      "source": [
        "## Step 8. Find and Deal with Outliers\n",
        "\n",
        "Outliers can have impact on the quality of analysis. Let's find and remove outliers from the dataset."
      ],
      "metadata": {
        "id": "iwg_b2X5W_Xr"
      }
    },
    {
      "cell_type": "code",
      "source": [
        "# Let's convert categorical values to numerical values\n",
        "MakeNum <- function(x) as.numeric(as.factor(x))\n",
        "\n",
        "clean_df <- mutate(clean_df, across(c(2,4,5,7,8,9,10,11,12,13,14,15,16,19), MakeNum))\n",
        "\n",
        "clean_df"
      ],
      "metadata": {
        "colab": {
          "base_uri": "https://localhost:8080/",
          "height": 1000
        },
        "id": "m7P_jZSWW87u",
        "outputId": "19753b81-a5cb-4712-f7cf-b5b99b2fcfcf"
      },
      "execution_count": null,
      "outputs": [
        {
          "output_type": "display_data",
          "data": {
            "text/html": [
              "<table class=\"dataframe\">\n",
              "<caption>A tibble: 7003 × 19</caption>\n",
              "<thead>\n",
              "\t<tr><th scope=col>customerid</th><th scope=col>gender</th><th scope=col>seniorcitizen</th><th scope=col>partner</th><th scope=col>dependents</th><th scope=col>tenure</th><th scope=col>phoneservice</th><th scope=col>multiplelines</th><th scope=col>internetservice</th><th scope=col>onlinesecurity</th><th scope=col>onlinebackup</th><th scope=col>deviceprotection</th><th scope=col>techsupport</th><th scope=col>streamingtv</th><th scope=col>streamingmovies</th><th scope=col>contract</th><th scope=col>monthlycharges</th><th scope=col>totalcharges</th><th scope=col>churn</th></tr>\n",
              "\t<tr><th scope=col>&lt;chr&gt;</th><th scope=col>&lt;dbl&gt;</th><th scope=col>&lt;dbl&gt;</th><th scope=col>&lt;dbl&gt;</th><th scope=col>&lt;dbl&gt;</th><th scope=col>&lt;dbl&gt;</th><th scope=col>&lt;dbl&gt;</th><th scope=col>&lt;dbl&gt;</th><th scope=col>&lt;dbl&gt;</th><th scope=col>&lt;dbl&gt;</th><th scope=col>&lt;dbl&gt;</th><th scope=col>&lt;dbl&gt;</th><th scope=col>&lt;dbl&gt;</th><th scope=col>&lt;dbl&gt;</th><th scope=col>&lt;dbl&gt;</th><th scope=col>&lt;dbl&gt;</th><th scope=col>&lt;dbl&gt;</th><th scope=col>&lt;dbl&gt;</th><th scope=col>&lt;dbl&gt;</th></tr>\n",
              "</thead>\n",
              "<tbody>\n",
              "\t<tr><td>7590-VHVEG</td><td>1</td><td>0</td><td>2</td><td>1</td><td> 1</td><td>1</td><td>2</td><td>1</td><td>1</td><td>3</td><td>1</td><td>1</td><td>1</td><td>1</td><td>1</td><td> 29.85</td><td>  29.85</td><td>1</td></tr>\n",
              "\t<tr><td>5575-GNVDE</td><td>2</td><td>0</td><td>1</td><td>1</td><td>34</td><td>2</td><td>1</td><td>1</td><td>3</td><td>1</td><td>3</td><td>1</td><td>1</td><td>1</td><td>2</td><td> 56.95</td><td>1889.50</td><td>1</td></tr>\n",
              "\t<tr><td>3668-QPYBK</td><td>2</td><td>0</td><td>1</td><td>1</td><td> 2</td><td>2</td><td>1</td><td>1</td><td>3</td><td>3</td><td>1</td><td>1</td><td>1</td><td>1</td><td>1</td><td> 53.85</td><td> 108.15</td><td>2</td></tr>\n",
              "\t<tr><td>7795-CFOCW</td><td>2</td><td>0</td><td>1</td><td>1</td><td>45</td><td>1</td><td>2</td><td>1</td><td>3</td><td>1</td><td>3</td><td>3</td><td>1</td><td>1</td><td>2</td><td> 42.30</td><td>1840.75</td><td>1</td></tr>\n",
              "\t<tr><td>9237-HQITU</td><td>1</td><td>0</td><td>1</td><td>1</td><td> 2</td><td>2</td><td>1</td><td>2</td><td>1</td><td>1</td><td>1</td><td>1</td><td>1</td><td>1</td><td>1</td><td> 70.70</td><td> 151.65</td><td>2</td></tr>\n",
              "\t<tr><td>9305-CDSKC</td><td>1</td><td>0</td><td>1</td><td>1</td><td> 8</td><td>2</td><td>3</td><td>2</td><td>1</td><td>1</td><td>3</td><td>1</td><td>3</td><td>3</td><td>1</td><td> 99.65</td><td> 820.50</td><td>2</td></tr>\n",
              "\t<tr><td>1452-KIOVK</td><td>2</td><td>0</td><td>1</td><td>2</td><td>22</td><td>2</td><td>3</td><td>2</td><td>1</td><td>3</td><td>1</td><td>1</td><td>3</td><td>1</td><td>1</td><td> 89.10</td><td>1949.40</td><td>1</td></tr>\n",
              "\t<tr><td>6713-OKOMC</td><td>1</td><td>0</td><td>1</td><td>1</td><td>10</td><td>1</td><td>2</td><td>1</td><td>3</td><td>1</td><td>1</td><td>1</td><td>1</td><td>1</td><td>1</td><td> 29.75</td><td> 301.90</td><td>1</td></tr>\n",
              "\t<tr><td>7892-POOKP</td><td>1</td><td>0</td><td>2</td><td>1</td><td>28</td><td>2</td><td>3</td><td>2</td><td>1</td><td>1</td><td>3</td><td>3</td><td>3</td><td>3</td><td>1</td><td>104.80</td><td>3046.05</td><td>2</td></tr>\n",
              "\t<tr><td>6388-TABGU</td><td>2</td><td>0</td><td>1</td><td>2</td><td>62</td><td>2</td><td>1</td><td>1</td><td>3</td><td>3</td><td>1</td><td>1</td><td>1</td><td>1</td><td>2</td><td> 56.15</td><td>3487.95</td><td>1</td></tr>\n",
              "\t<tr><td>9763-GRSKD</td><td>2</td><td>0</td><td>2</td><td>2</td><td>13</td><td>2</td><td>1</td><td>1</td><td>3</td><td>1</td><td>1</td><td>1</td><td>1</td><td>1</td><td>1</td><td> 49.95</td><td> 587.45</td><td>1</td></tr>\n",
              "\t<tr><td>7469-LKBCI</td><td>2</td><td>0</td><td>1</td><td>1</td><td>16</td><td>2</td><td>1</td><td>3</td><td>2</td><td>2</td><td>2</td><td>2</td><td>2</td><td>2</td><td>3</td><td> 18.95</td><td> 326.80</td><td>1</td></tr>\n",
              "\t<tr><td>8091-TTVAX</td><td>2</td><td>0</td><td>2</td><td>1</td><td>58</td><td>2</td><td>3</td><td>2</td><td>1</td><td>1</td><td>3</td><td>1</td><td>3</td><td>3</td><td>2</td><td>100.35</td><td>5681.10</td><td>1</td></tr>\n",
              "\t<tr><td>0280-XJGEX</td><td>2</td><td>0</td><td>1</td><td>1</td><td>49</td><td>2</td><td>3</td><td>2</td><td>1</td><td>3</td><td>3</td><td>1</td><td>3</td><td>3</td><td>1</td><td>103.70</td><td>5036.30</td><td>2</td></tr>\n",
              "\t<tr><td>5129-JLPIS</td><td>2</td><td>0</td><td>1</td><td>1</td><td>25</td><td>2</td><td>1</td><td>2</td><td>3</td><td>1</td><td>3</td><td>3</td><td>3</td><td>3</td><td>1</td><td>105.50</td><td>2686.05</td><td>1</td></tr>\n",
              "\t<tr><td>3655-SNQYZ</td><td>1</td><td>0</td><td>2</td><td>2</td><td>69</td><td>2</td><td>3</td><td>2</td><td>3</td><td>3</td><td>3</td><td>3</td><td>3</td><td>3</td><td>3</td><td>113.25</td><td>7895.15</td><td>1</td></tr>\n",
              "\t<tr><td>8191-XWSZG</td><td>1</td><td>0</td><td>1</td><td>1</td><td>52</td><td>2</td><td>1</td><td>3</td><td>2</td><td>2</td><td>2</td><td>2</td><td>2</td><td>2</td><td>2</td><td> 20.65</td><td>1022.95</td><td>1</td></tr>\n",
              "\t<tr><td>9959-WOFKT</td><td>2</td><td>0</td><td>1</td><td>2</td><td>71</td><td>2</td><td>3</td><td>2</td><td>3</td><td>1</td><td>3</td><td>1</td><td>3</td><td>3</td><td>3</td><td>106.70</td><td>7382.25</td><td>1</td></tr>\n",
              "\t<tr><td>4190-MFLUW</td><td>1</td><td>0</td><td>2</td><td>2</td><td>10</td><td>2</td><td>1</td><td>1</td><td>1</td><td>1</td><td>3</td><td>3</td><td>1</td><td>1</td><td>1</td><td> 55.20</td><td> 528.35</td><td>2</td></tr>\n",
              "\t<tr><td>4183-MYFRB</td><td>1</td><td>0</td><td>1</td><td>1</td><td>21</td><td>2</td><td>1</td><td>2</td><td>1</td><td>3</td><td>3</td><td>1</td><td>1</td><td>3</td><td>1</td><td> 90.05</td><td>1862.90</td><td>1</td></tr>\n",
              "\t<tr><td>8779-QRDMV</td><td>2</td><td>1</td><td>1</td><td>1</td><td> 1</td><td>1</td><td>2</td><td>1</td><td>1</td><td>1</td><td>3</td><td>1</td><td>1</td><td>3</td><td>1</td><td> 39.65</td><td>  39.65</td><td>2</td></tr>\n",
              "\t<tr><td>1680-VDCWW</td><td>2</td><td>0</td><td>2</td><td>1</td><td>12</td><td>2</td><td>1</td><td>3</td><td>2</td><td>2</td><td>2</td><td>2</td><td>2</td><td>2</td><td>2</td><td> 19.80</td><td> 202.25</td><td>1</td></tr>\n",
              "\t<tr><td>1066-JKSGK</td><td>2</td><td>0</td><td>1</td><td>1</td><td> 1</td><td>2</td><td>1</td><td>3</td><td>2</td><td>2</td><td>2</td><td>2</td><td>2</td><td>2</td><td>1</td><td> 20.15</td><td>  20.15</td><td>2</td></tr>\n",
              "\t<tr><td>3638-WEABW</td><td>1</td><td>0</td><td>2</td><td>1</td><td>58</td><td>2</td><td>3</td><td>1</td><td>1</td><td>3</td><td>1</td><td>3</td><td>1</td><td>1</td><td>3</td><td> 59.90</td><td>3505.10</td><td>1</td></tr>\n",
              "\t<tr><td>6322-HRPFA</td><td>2</td><td>0</td><td>2</td><td>2</td><td>49</td><td>2</td><td>1</td><td>1</td><td>3</td><td>3</td><td>1</td><td>3</td><td>1</td><td>1</td><td>1</td><td> 59.60</td><td>2970.30</td><td>1</td></tr>\n",
              "\t<tr><td>6865-JZNKO</td><td>1</td><td>0</td><td>1</td><td>1</td><td>30</td><td>2</td><td>1</td><td>1</td><td>3</td><td>3</td><td>1</td><td>1</td><td>1</td><td>1</td><td>1</td><td> 55.30</td><td>1530.60</td><td>1</td></tr>\n",
              "\t<tr><td>6467-CHFZW</td><td>2</td><td>0</td><td>2</td><td>2</td><td>47</td><td>2</td><td>3</td><td>2</td><td>1</td><td>3</td><td>1</td><td>1</td><td>3</td><td>3</td><td>1</td><td> 99.35</td><td>4749.15</td><td>2</td></tr>\n",
              "\t<tr><td>8665-UTDHZ</td><td>2</td><td>0</td><td>2</td><td>2</td><td> 1</td><td>1</td><td>2</td><td>1</td><td>1</td><td>3</td><td>1</td><td>1</td><td>1</td><td>1</td><td>1</td><td> 30.20</td><td>  30.20</td><td>2</td></tr>\n",
              "\t<tr><td>5248-YGIJN</td><td>2</td><td>0</td><td>2</td><td>1</td><td>72</td><td>2</td><td>3</td><td>1</td><td>3</td><td>3</td><td>3</td><td>3</td><td>3</td><td>3</td><td>3</td><td> 90.25</td><td>6369.45</td><td>1</td></tr>\n",
              "\t<tr><td>8773-HHUOZ</td><td>1</td><td>0</td><td>1</td><td>2</td><td>17</td><td>2</td><td>1</td><td>1</td><td>1</td><td>1</td><td>1</td><td>1</td><td>3</td><td>3</td><td>1</td><td> 64.70</td><td>1093.10</td><td>2</td></tr>\n",
              "\t<tr><td>⋮</td><td>⋮</td><td>⋮</td><td>⋮</td><td>⋮</td><td>⋮</td><td>⋮</td><td>⋮</td><td>⋮</td><td>⋮</td><td>⋮</td><td>⋮</td><td>⋮</td><td>⋮</td><td>⋮</td><td>⋮</td><td>⋮</td><td>⋮</td><td>⋮</td></tr>\n",
              "\t<tr><td>1685-BQULA</td><td>1</td><td>0</td><td>1</td><td>1</td><td>40</td><td>2</td><td>3</td><td>2</td><td>1</td><td>3</td><td>3</td><td>1</td><td>3</td><td>1</td><td>1</td><td> 93.40</td><td>3756.40</td><td>1</td></tr>\n",
              "\t<tr><td>9053-EJUNL</td><td>2</td><td>0</td><td>1</td><td>1</td><td>41</td><td>2</td><td>3</td><td>2</td><td>1</td><td>3</td><td>1</td><td>1</td><td>3</td><td>1</td><td>1</td><td> 89.20</td><td>3645.75</td><td>1</td></tr>\n",
              "\t<tr><td>0666-UXTJO</td><td>2</td><td>1</td><td>2</td><td>1</td><td>34</td><td>2</td><td>1</td><td>2</td><td>1</td><td>1</td><td>3</td><td>1</td><td>3</td><td>1</td><td>1</td><td> 85.20</td><td>2874.45</td><td>1</td></tr>\n",
              "\t<tr><td>1471-GIQKQ</td><td>1</td><td>0</td><td>1</td><td>1</td><td> 1</td><td>2</td><td>1</td><td>1</td><td>1</td><td>3</td><td>1</td><td>1</td><td>1</td><td>1</td><td>1</td><td> 49.95</td><td>  49.95</td><td>1</td></tr>\n",
              "\t<tr><td>4807-IZYOZ</td><td>1</td><td>0</td><td>1</td><td>1</td><td>51</td><td>2</td><td>1</td><td>3</td><td>2</td><td>2</td><td>2</td><td>2</td><td>2</td><td>2</td><td>3</td><td> 20.65</td><td>1020.75</td><td>1</td></tr>\n",
              "\t<tr><td>1122-JWTJW</td><td>2</td><td>0</td><td>2</td><td>2</td><td> 1</td><td>2</td><td>1</td><td>2</td><td>1</td><td>1</td><td>1</td><td>1</td><td>1</td><td>1</td><td>1</td><td> 70.65</td><td>  70.65</td><td>2</td></tr>\n",
              "\t<tr><td>9710-NJERN</td><td>1</td><td>0</td><td>1</td><td>1</td><td>39</td><td>2</td><td>1</td><td>3</td><td>2</td><td>2</td><td>2</td><td>2</td><td>2</td><td>2</td><td>3</td><td> 20.15</td><td> 826.00</td><td>1</td></tr>\n",
              "\t<tr><td>9837-FWLCH</td><td>2</td><td>0</td><td>2</td><td>2</td><td>12</td><td>2</td><td>1</td><td>3</td><td>2</td><td>2</td><td>2</td><td>2</td><td>2</td><td>2</td><td>1</td><td> 19.20</td><td> 239.00</td><td>1</td></tr>\n",
              "\t<tr><td>1699-HPSBG</td><td>2</td><td>0</td><td>1</td><td>1</td><td>12</td><td>2</td><td>1</td><td>1</td><td>1</td><td>1</td><td>1</td><td>3</td><td>3</td><td>1</td><td>2</td><td> 59.80</td><td> 727.80</td><td>2</td></tr>\n",
              "\t<tr><td>7203-OYKCT</td><td>2</td><td>0</td><td>1</td><td>1</td><td>72</td><td>2</td><td>3</td><td>2</td><td>1</td><td>3</td><td>3</td><td>1</td><td>3</td><td>3</td><td>2</td><td>104.95</td><td>7544.30</td><td>1</td></tr>\n",
              "\t<tr><td>1035-IPQPU</td><td>1</td><td>1</td><td>2</td><td>1</td><td>63</td><td>2</td><td>3</td><td>2</td><td>1</td><td>3</td><td>3</td><td>1</td><td>3</td><td>3</td><td>1</td><td>103.50</td><td>6479.40</td><td>1</td></tr>\n",
              "\t<tr><td>7398-LXGYX</td><td>2</td><td>0</td><td>2</td><td>1</td><td>44</td><td>2</td><td>3</td><td>2</td><td>3</td><td>1</td><td>3</td><td>1</td><td>1</td><td>1</td><td>1</td><td> 84.80</td><td>3626.35</td><td>1</td></tr>\n",
              "\t<tr><td>2823-LKABH</td><td>1</td><td>0</td><td>1</td><td>1</td><td>18</td><td>2</td><td>3</td><td>2</td><td>1</td><td>1</td><td>3</td><td>3</td><td>1</td><td>3</td><td>1</td><td> 95.05</td><td>1679.40</td><td>1</td></tr>\n",
              "\t<tr><td>8775-CEBBJ</td><td>1</td><td>0</td><td>1</td><td>1</td><td> 9</td><td>2</td><td>1</td><td>1</td><td>1</td><td>1</td><td>1</td><td>1</td><td>1</td><td>1</td><td>1</td><td> 44.20</td><td> 403.35</td><td>2</td></tr>\n",
              "\t<tr><td>0550-DCXLH</td><td>2</td><td>0</td><td>1</td><td>1</td><td>13</td><td>2</td><td>1</td><td>1</td><td>1</td><td>3</td><td>1</td><td>3</td><td>3</td><td>3</td><td>1</td><td> 73.35</td><td> 931.55</td><td>1</td></tr>\n",
              "\t<tr><td>9281-CEDRU</td><td>1</td><td>0</td><td>2</td><td>1</td><td>68</td><td>2</td><td>1</td><td>1</td><td>1</td><td>3</td><td>1</td><td>3</td><td>3</td><td>1</td><td>3</td><td> 64.10</td><td>4326.25</td><td>1</td></tr>\n",
              "\t<tr><td>2235-DWLJU</td><td>1</td><td>1</td><td>1</td><td>1</td><td> 6</td><td>1</td><td>2</td><td>1</td><td>1</td><td>1</td><td>1</td><td>1</td><td>3</td><td>3</td><td>1</td><td> 44.40</td><td> 263.05</td><td>1</td></tr>\n",
              "\t<tr><td>0871-OPBXW</td><td>1</td><td>0</td><td>1</td><td>1</td><td> 2</td><td>2</td><td>1</td><td>3</td><td>2</td><td>2</td><td>2</td><td>2</td><td>2</td><td>2</td><td>1</td><td> 20.05</td><td>  39.25</td><td>1</td></tr>\n",
              "\t<tr><td>3605-JISKB</td><td>2</td><td>1</td><td>2</td><td>1</td><td>55</td><td>2</td><td>3</td><td>1</td><td>3</td><td>3</td><td>1</td><td>1</td><td>1</td><td>1</td><td>2</td><td> 60.00</td><td>3316.10</td><td>1</td></tr>\n",
              "\t<tr><td>6894-LFHLY</td><td>2</td><td>1</td><td>1</td><td>1</td><td> 1</td><td>2</td><td>3</td><td>2</td><td>1</td><td>1</td><td>1</td><td>1</td><td>1</td><td>1</td><td>1</td><td> 75.75</td><td>  75.75</td><td>2</td></tr>\n",
              "\t<tr><td>9767-FFLEM</td><td>2</td><td>0</td><td>1</td><td>1</td><td>38</td><td>2</td><td>1</td><td>2</td><td>1</td><td>1</td><td>1</td><td>1</td><td>1</td><td>1</td><td>1</td><td> 69.50</td><td>2625.25</td><td>1</td></tr>\n",
              "\t<tr><td>0639-TSIQW</td><td>1</td><td>0</td><td>1</td><td>1</td><td>67</td><td>2</td><td>3</td><td>2</td><td>3</td><td>3</td><td>3</td><td>1</td><td>3</td><td>1</td><td>1</td><td>102.95</td><td>6886.25</td><td>2</td></tr>\n",
              "\t<tr><td>8456-QDAVC</td><td>2</td><td>0</td><td>1</td><td>1</td><td>19</td><td>2</td><td>1</td><td>2</td><td>1</td><td>1</td><td>1</td><td>1</td><td>3</td><td>1</td><td>1</td><td> 78.70</td><td>1495.10</td><td>1</td></tr>\n",
              "\t<tr><td>7750-EYXWZ</td><td>1</td><td>0</td><td>1</td><td>1</td><td>12</td><td>1</td><td>2</td><td>1</td><td>1</td><td>3</td><td>3</td><td>3</td><td>3</td><td>3</td><td>2</td><td> 60.65</td><td> 743.30</td><td>1</td></tr>\n",
              "\t<tr><td>2569-WGERO</td><td>1</td><td>0</td><td>1</td><td>1</td><td>72</td><td>2</td><td>1</td><td>3</td><td>2</td><td>2</td><td>2</td><td>2</td><td>2</td><td>2</td><td>3</td><td> 21.15</td><td>1419.40</td><td>1</td></tr>\n",
              "\t<tr><td>6840-RESVB</td><td>2</td><td>0</td><td>2</td><td>2</td><td>24</td><td>2</td><td>3</td><td>1</td><td>3</td><td>1</td><td>3</td><td>3</td><td>3</td><td>3</td><td>2</td><td> 84.80</td><td>1990.50</td><td>1</td></tr>\n",
              "\t<tr><td>2234-XADUH</td><td>1</td><td>0</td><td>2</td><td>2</td><td>72</td><td>2</td><td>3</td><td>2</td><td>1</td><td>3</td><td>3</td><td>1</td><td>3</td><td>3</td><td>2</td><td>103.20</td><td>7362.90</td><td>1</td></tr>\n",
              "\t<tr><td>4801-JZAZL</td><td>1</td><td>0</td><td>2</td><td>2</td><td>11</td><td>1</td><td>2</td><td>1</td><td>3</td><td>1</td><td>1</td><td>1</td><td>1</td><td>1</td><td>1</td><td> 29.60</td><td> 346.45</td><td>1</td></tr>\n",
              "\t<tr><td>8361-LTMKD</td><td>2</td><td>1</td><td>2</td><td>1</td><td> 4</td><td>2</td><td>3</td><td>2</td><td>1</td><td>1</td><td>1</td><td>1</td><td>1</td><td>1</td><td>1</td><td> 74.40</td><td> 306.60</td><td>2</td></tr>\n",
              "\t<tr><td>3186-AJIEK</td><td>2</td><td>0</td><td>1</td><td>1</td><td>66</td><td>2</td><td>1</td><td>2</td><td>3</td><td>1</td><td>3</td><td>3</td><td>3</td><td>3</td><td>3</td><td>105.65</td><td>6844.50</td><td>1</td></tr>\n",
              "</tbody>\n",
              "</table>\n"
            ],
            "text/markdown": "\nA tibble: 7003 × 19\n\n| customerid &lt;chr&gt; | gender &lt;dbl&gt; | seniorcitizen &lt;dbl&gt; | partner &lt;dbl&gt; | dependents &lt;dbl&gt; | tenure &lt;dbl&gt; | phoneservice &lt;dbl&gt; | multiplelines &lt;dbl&gt; | internetservice &lt;dbl&gt; | onlinesecurity &lt;dbl&gt; | onlinebackup &lt;dbl&gt; | deviceprotection &lt;dbl&gt; | techsupport &lt;dbl&gt; | streamingtv &lt;dbl&gt; | streamingmovies &lt;dbl&gt; | contract &lt;dbl&gt; | monthlycharges &lt;dbl&gt; | totalcharges &lt;dbl&gt; | churn &lt;dbl&gt; |\n|---|---|---|---|---|---|---|---|---|---|---|---|---|---|---|---|---|---|---|\n| 7590-VHVEG | 1 | 0 | 2 | 1 |  1 | 1 | 2 | 1 | 1 | 3 | 1 | 1 | 1 | 1 | 1 |  29.85 |   29.85 | 1 |\n| 5575-GNVDE | 2 | 0 | 1 | 1 | 34 | 2 | 1 | 1 | 3 | 1 | 3 | 1 | 1 | 1 | 2 |  56.95 | 1889.50 | 1 |\n| 3668-QPYBK | 2 | 0 | 1 | 1 |  2 | 2 | 1 | 1 | 3 | 3 | 1 | 1 | 1 | 1 | 1 |  53.85 |  108.15 | 2 |\n| 7795-CFOCW | 2 | 0 | 1 | 1 | 45 | 1 | 2 | 1 | 3 | 1 | 3 | 3 | 1 | 1 | 2 |  42.30 | 1840.75 | 1 |\n| 9237-HQITU | 1 | 0 | 1 | 1 |  2 | 2 | 1 | 2 | 1 | 1 | 1 | 1 | 1 | 1 | 1 |  70.70 |  151.65 | 2 |\n| 9305-CDSKC | 1 | 0 | 1 | 1 |  8 | 2 | 3 | 2 | 1 | 1 | 3 | 1 | 3 | 3 | 1 |  99.65 |  820.50 | 2 |\n| 1452-KIOVK | 2 | 0 | 1 | 2 | 22 | 2 | 3 | 2 | 1 | 3 | 1 | 1 | 3 | 1 | 1 |  89.10 | 1949.40 | 1 |\n| 6713-OKOMC | 1 | 0 | 1 | 1 | 10 | 1 | 2 | 1 | 3 | 1 | 1 | 1 | 1 | 1 | 1 |  29.75 |  301.90 | 1 |\n| 7892-POOKP | 1 | 0 | 2 | 1 | 28 | 2 | 3 | 2 | 1 | 1 | 3 | 3 | 3 | 3 | 1 | 104.80 | 3046.05 | 2 |\n| 6388-TABGU | 2 | 0 | 1 | 2 | 62 | 2 | 1 | 1 | 3 | 3 | 1 | 1 | 1 | 1 | 2 |  56.15 | 3487.95 | 1 |\n| 9763-GRSKD | 2 | 0 | 2 | 2 | 13 | 2 | 1 | 1 | 3 | 1 | 1 | 1 | 1 | 1 | 1 |  49.95 |  587.45 | 1 |\n| 7469-LKBCI | 2 | 0 | 1 | 1 | 16 | 2 | 1 | 3 | 2 | 2 | 2 | 2 | 2 | 2 | 3 |  18.95 |  326.80 | 1 |\n| 8091-TTVAX | 2 | 0 | 2 | 1 | 58 | 2 | 3 | 2 | 1 | 1 | 3 | 1 | 3 | 3 | 2 | 100.35 | 5681.10 | 1 |\n| 0280-XJGEX | 2 | 0 | 1 | 1 | 49 | 2 | 3 | 2 | 1 | 3 | 3 | 1 | 3 | 3 | 1 | 103.70 | 5036.30 | 2 |\n| 5129-JLPIS | 2 | 0 | 1 | 1 | 25 | 2 | 1 | 2 | 3 | 1 | 3 | 3 | 3 | 3 | 1 | 105.50 | 2686.05 | 1 |\n| 3655-SNQYZ | 1 | 0 | 2 | 2 | 69 | 2 | 3 | 2 | 3 | 3 | 3 | 3 | 3 | 3 | 3 | 113.25 | 7895.15 | 1 |\n| 8191-XWSZG | 1 | 0 | 1 | 1 | 52 | 2 | 1 | 3 | 2 | 2 | 2 | 2 | 2 | 2 | 2 |  20.65 | 1022.95 | 1 |\n| 9959-WOFKT | 2 | 0 | 1 | 2 | 71 | 2 | 3 | 2 | 3 | 1 | 3 | 1 | 3 | 3 | 3 | 106.70 | 7382.25 | 1 |\n| 4190-MFLUW | 1 | 0 | 2 | 2 | 10 | 2 | 1 | 1 | 1 | 1 | 3 | 3 | 1 | 1 | 1 |  55.20 |  528.35 | 2 |\n| 4183-MYFRB | 1 | 0 | 1 | 1 | 21 | 2 | 1 | 2 | 1 | 3 | 3 | 1 | 1 | 3 | 1 |  90.05 | 1862.90 | 1 |\n| 8779-QRDMV | 2 | 1 | 1 | 1 |  1 | 1 | 2 | 1 | 1 | 1 | 3 | 1 | 1 | 3 | 1 |  39.65 |   39.65 | 2 |\n| 1680-VDCWW | 2 | 0 | 2 | 1 | 12 | 2 | 1 | 3 | 2 | 2 | 2 | 2 | 2 | 2 | 2 |  19.80 |  202.25 | 1 |\n| 1066-JKSGK | 2 | 0 | 1 | 1 |  1 | 2 | 1 | 3 | 2 | 2 | 2 | 2 | 2 | 2 | 1 |  20.15 |   20.15 | 2 |\n| 3638-WEABW | 1 | 0 | 2 | 1 | 58 | 2 | 3 | 1 | 1 | 3 | 1 | 3 | 1 | 1 | 3 |  59.90 | 3505.10 | 1 |\n| 6322-HRPFA | 2 | 0 | 2 | 2 | 49 | 2 | 1 | 1 | 3 | 3 | 1 | 3 | 1 | 1 | 1 |  59.60 | 2970.30 | 1 |\n| 6865-JZNKO | 1 | 0 | 1 | 1 | 30 | 2 | 1 | 1 | 3 | 3 | 1 | 1 | 1 | 1 | 1 |  55.30 | 1530.60 | 1 |\n| 6467-CHFZW | 2 | 0 | 2 | 2 | 47 | 2 | 3 | 2 | 1 | 3 | 1 | 1 | 3 | 3 | 1 |  99.35 | 4749.15 | 2 |\n| 8665-UTDHZ | 2 | 0 | 2 | 2 |  1 | 1 | 2 | 1 | 1 | 3 | 1 | 1 | 1 | 1 | 1 |  30.20 |   30.20 | 2 |\n| 5248-YGIJN | 2 | 0 | 2 | 1 | 72 | 2 | 3 | 1 | 3 | 3 | 3 | 3 | 3 | 3 | 3 |  90.25 | 6369.45 | 1 |\n| 8773-HHUOZ | 1 | 0 | 1 | 2 | 17 | 2 | 1 | 1 | 1 | 1 | 1 | 1 | 3 | 3 | 1 |  64.70 | 1093.10 | 2 |\n| ⋮ | ⋮ | ⋮ | ⋮ | ⋮ | ⋮ | ⋮ | ⋮ | ⋮ | ⋮ | ⋮ | ⋮ | ⋮ | ⋮ | ⋮ | ⋮ | ⋮ | ⋮ | ⋮ |\n| 1685-BQULA | 1 | 0 | 1 | 1 | 40 | 2 | 3 | 2 | 1 | 3 | 3 | 1 | 3 | 1 | 1 |  93.40 | 3756.40 | 1 |\n| 9053-EJUNL | 2 | 0 | 1 | 1 | 41 | 2 | 3 | 2 | 1 | 3 | 1 | 1 | 3 | 1 | 1 |  89.20 | 3645.75 | 1 |\n| 0666-UXTJO | 2 | 1 | 2 | 1 | 34 | 2 | 1 | 2 | 1 | 1 | 3 | 1 | 3 | 1 | 1 |  85.20 | 2874.45 | 1 |\n| 1471-GIQKQ | 1 | 0 | 1 | 1 |  1 | 2 | 1 | 1 | 1 | 3 | 1 | 1 | 1 | 1 | 1 |  49.95 |   49.95 | 1 |\n| 4807-IZYOZ | 1 | 0 | 1 | 1 | 51 | 2 | 1 | 3 | 2 | 2 | 2 | 2 | 2 | 2 | 3 |  20.65 | 1020.75 | 1 |\n| 1122-JWTJW | 2 | 0 | 2 | 2 |  1 | 2 | 1 | 2 | 1 | 1 | 1 | 1 | 1 | 1 | 1 |  70.65 |   70.65 | 2 |\n| 9710-NJERN | 1 | 0 | 1 | 1 | 39 | 2 | 1 | 3 | 2 | 2 | 2 | 2 | 2 | 2 | 3 |  20.15 |  826.00 | 1 |\n| 9837-FWLCH | 2 | 0 | 2 | 2 | 12 | 2 | 1 | 3 | 2 | 2 | 2 | 2 | 2 | 2 | 1 |  19.20 |  239.00 | 1 |\n| 1699-HPSBG | 2 | 0 | 1 | 1 | 12 | 2 | 1 | 1 | 1 | 1 | 1 | 3 | 3 | 1 | 2 |  59.80 |  727.80 | 2 |\n| 7203-OYKCT | 2 | 0 | 1 | 1 | 72 | 2 | 3 | 2 | 1 | 3 | 3 | 1 | 3 | 3 | 2 | 104.95 | 7544.30 | 1 |\n| 1035-IPQPU | 1 | 1 | 2 | 1 | 63 | 2 | 3 | 2 | 1 | 3 | 3 | 1 | 3 | 3 | 1 | 103.50 | 6479.40 | 1 |\n| 7398-LXGYX | 2 | 0 | 2 | 1 | 44 | 2 | 3 | 2 | 3 | 1 | 3 | 1 | 1 | 1 | 1 |  84.80 | 3626.35 | 1 |\n| 2823-LKABH | 1 | 0 | 1 | 1 | 18 | 2 | 3 | 2 | 1 | 1 | 3 | 3 | 1 | 3 | 1 |  95.05 | 1679.40 | 1 |\n| 8775-CEBBJ | 1 | 0 | 1 | 1 |  9 | 2 | 1 | 1 | 1 | 1 | 1 | 1 | 1 | 1 | 1 |  44.20 |  403.35 | 2 |\n| 0550-DCXLH | 2 | 0 | 1 | 1 | 13 | 2 | 1 | 1 | 1 | 3 | 1 | 3 | 3 | 3 | 1 |  73.35 |  931.55 | 1 |\n| 9281-CEDRU | 1 | 0 | 2 | 1 | 68 | 2 | 1 | 1 | 1 | 3 | 1 | 3 | 3 | 1 | 3 |  64.10 | 4326.25 | 1 |\n| 2235-DWLJU | 1 | 1 | 1 | 1 |  6 | 1 | 2 | 1 | 1 | 1 | 1 | 1 | 3 | 3 | 1 |  44.40 |  263.05 | 1 |\n| 0871-OPBXW | 1 | 0 | 1 | 1 |  2 | 2 | 1 | 3 | 2 | 2 | 2 | 2 | 2 | 2 | 1 |  20.05 |   39.25 | 1 |\n| 3605-JISKB | 2 | 1 | 2 | 1 | 55 | 2 | 3 | 1 | 3 | 3 | 1 | 1 | 1 | 1 | 2 |  60.00 | 3316.10 | 1 |\n| 6894-LFHLY | 2 | 1 | 1 | 1 |  1 | 2 | 3 | 2 | 1 | 1 | 1 | 1 | 1 | 1 | 1 |  75.75 |   75.75 | 2 |\n| 9767-FFLEM | 2 | 0 | 1 | 1 | 38 | 2 | 1 | 2 | 1 | 1 | 1 | 1 | 1 | 1 | 1 |  69.50 | 2625.25 | 1 |\n| 0639-TSIQW | 1 | 0 | 1 | 1 | 67 | 2 | 3 | 2 | 3 | 3 | 3 | 1 | 3 | 1 | 1 | 102.95 | 6886.25 | 2 |\n| 8456-QDAVC | 2 | 0 | 1 | 1 | 19 | 2 | 1 | 2 | 1 | 1 | 1 | 1 | 3 | 1 | 1 |  78.70 | 1495.10 | 1 |\n| 7750-EYXWZ | 1 | 0 | 1 | 1 | 12 | 1 | 2 | 1 | 1 | 3 | 3 | 3 | 3 | 3 | 2 |  60.65 |  743.30 | 1 |\n| 2569-WGERO | 1 | 0 | 1 | 1 | 72 | 2 | 1 | 3 | 2 | 2 | 2 | 2 | 2 | 2 | 3 |  21.15 | 1419.40 | 1 |\n| 6840-RESVB | 2 | 0 | 2 | 2 | 24 | 2 | 3 | 1 | 3 | 1 | 3 | 3 | 3 | 3 | 2 |  84.80 | 1990.50 | 1 |\n| 2234-XADUH | 1 | 0 | 2 | 2 | 72 | 2 | 3 | 2 | 1 | 3 | 3 | 1 | 3 | 3 | 2 | 103.20 | 7362.90 | 1 |\n| 4801-JZAZL | 1 | 0 | 2 | 2 | 11 | 1 | 2 | 1 | 3 | 1 | 1 | 1 | 1 | 1 | 1 |  29.60 |  346.45 | 1 |\n| 8361-LTMKD | 2 | 1 | 2 | 1 |  4 | 2 | 3 | 2 | 1 | 1 | 1 | 1 | 1 | 1 | 1 |  74.40 |  306.60 | 2 |\n| 3186-AJIEK | 2 | 0 | 1 | 1 | 66 | 2 | 1 | 2 | 3 | 1 | 3 | 3 | 3 | 3 | 3 | 105.65 | 6844.50 | 1 |\n\n",
            "text/latex": "A tibble: 7003 × 19\n\\begin{tabular}{lllllllllllllllllll}\n customerid & gender & seniorcitizen & partner & dependents & tenure & phoneservice & multiplelines & internetservice & onlinesecurity & onlinebackup & deviceprotection & techsupport & streamingtv & streamingmovies & contract & monthlycharges & totalcharges & churn\\\\\n <chr> & <dbl> & <dbl> & <dbl> & <dbl> & <dbl> & <dbl> & <dbl> & <dbl> & <dbl> & <dbl> & <dbl> & <dbl> & <dbl> & <dbl> & <dbl> & <dbl> & <dbl> & <dbl>\\\\\n\\hline\n\t 7590-VHVEG & 1 & 0 & 2 & 1 &  1 & 1 & 2 & 1 & 1 & 3 & 1 & 1 & 1 & 1 & 1 &  29.85 &   29.85 & 1\\\\\n\t 5575-GNVDE & 2 & 0 & 1 & 1 & 34 & 2 & 1 & 1 & 3 & 1 & 3 & 1 & 1 & 1 & 2 &  56.95 & 1889.50 & 1\\\\\n\t 3668-QPYBK & 2 & 0 & 1 & 1 &  2 & 2 & 1 & 1 & 3 & 3 & 1 & 1 & 1 & 1 & 1 &  53.85 &  108.15 & 2\\\\\n\t 7795-CFOCW & 2 & 0 & 1 & 1 & 45 & 1 & 2 & 1 & 3 & 1 & 3 & 3 & 1 & 1 & 2 &  42.30 & 1840.75 & 1\\\\\n\t 9237-HQITU & 1 & 0 & 1 & 1 &  2 & 2 & 1 & 2 & 1 & 1 & 1 & 1 & 1 & 1 & 1 &  70.70 &  151.65 & 2\\\\\n\t 9305-CDSKC & 1 & 0 & 1 & 1 &  8 & 2 & 3 & 2 & 1 & 1 & 3 & 1 & 3 & 3 & 1 &  99.65 &  820.50 & 2\\\\\n\t 1452-KIOVK & 2 & 0 & 1 & 2 & 22 & 2 & 3 & 2 & 1 & 3 & 1 & 1 & 3 & 1 & 1 &  89.10 & 1949.40 & 1\\\\\n\t 6713-OKOMC & 1 & 0 & 1 & 1 & 10 & 1 & 2 & 1 & 3 & 1 & 1 & 1 & 1 & 1 & 1 &  29.75 &  301.90 & 1\\\\\n\t 7892-POOKP & 1 & 0 & 2 & 1 & 28 & 2 & 3 & 2 & 1 & 1 & 3 & 3 & 3 & 3 & 1 & 104.80 & 3046.05 & 2\\\\\n\t 6388-TABGU & 2 & 0 & 1 & 2 & 62 & 2 & 1 & 1 & 3 & 3 & 1 & 1 & 1 & 1 & 2 &  56.15 & 3487.95 & 1\\\\\n\t 9763-GRSKD & 2 & 0 & 2 & 2 & 13 & 2 & 1 & 1 & 3 & 1 & 1 & 1 & 1 & 1 & 1 &  49.95 &  587.45 & 1\\\\\n\t 7469-LKBCI & 2 & 0 & 1 & 1 & 16 & 2 & 1 & 3 & 2 & 2 & 2 & 2 & 2 & 2 & 3 &  18.95 &  326.80 & 1\\\\\n\t 8091-TTVAX & 2 & 0 & 2 & 1 & 58 & 2 & 3 & 2 & 1 & 1 & 3 & 1 & 3 & 3 & 2 & 100.35 & 5681.10 & 1\\\\\n\t 0280-XJGEX & 2 & 0 & 1 & 1 & 49 & 2 & 3 & 2 & 1 & 3 & 3 & 1 & 3 & 3 & 1 & 103.70 & 5036.30 & 2\\\\\n\t 5129-JLPIS & 2 & 0 & 1 & 1 & 25 & 2 & 1 & 2 & 3 & 1 & 3 & 3 & 3 & 3 & 1 & 105.50 & 2686.05 & 1\\\\\n\t 3655-SNQYZ & 1 & 0 & 2 & 2 & 69 & 2 & 3 & 2 & 3 & 3 & 3 & 3 & 3 & 3 & 3 & 113.25 & 7895.15 & 1\\\\\n\t 8191-XWSZG & 1 & 0 & 1 & 1 & 52 & 2 & 1 & 3 & 2 & 2 & 2 & 2 & 2 & 2 & 2 &  20.65 & 1022.95 & 1\\\\\n\t 9959-WOFKT & 2 & 0 & 1 & 2 & 71 & 2 & 3 & 2 & 3 & 1 & 3 & 1 & 3 & 3 & 3 & 106.70 & 7382.25 & 1\\\\\n\t 4190-MFLUW & 1 & 0 & 2 & 2 & 10 & 2 & 1 & 1 & 1 & 1 & 3 & 3 & 1 & 1 & 1 &  55.20 &  528.35 & 2\\\\\n\t 4183-MYFRB & 1 & 0 & 1 & 1 & 21 & 2 & 1 & 2 & 1 & 3 & 3 & 1 & 1 & 3 & 1 &  90.05 & 1862.90 & 1\\\\\n\t 8779-QRDMV & 2 & 1 & 1 & 1 &  1 & 1 & 2 & 1 & 1 & 1 & 3 & 1 & 1 & 3 & 1 &  39.65 &   39.65 & 2\\\\\n\t 1680-VDCWW & 2 & 0 & 2 & 1 & 12 & 2 & 1 & 3 & 2 & 2 & 2 & 2 & 2 & 2 & 2 &  19.80 &  202.25 & 1\\\\\n\t 1066-JKSGK & 2 & 0 & 1 & 1 &  1 & 2 & 1 & 3 & 2 & 2 & 2 & 2 & 2 & 2 & 1 &  20.15 &   20.15 & 2\\\\\n\t 3638-WEABW & 1 & 0 & 2 & 1 & 58 & 2 & 3 & 1 & 1 & 3 & 1 & 3 & 1 & 1 & 3 &  59.90 & 3505.10 & 1\\\\\n\t 6322-HRPFA & 2 & 0 & 2 & 2 & 49 & 2 & 1 & 1 & 3 & 3 & 1 & 3 & 1 & 1 & 1 &  59.60 & 2970.30 & 1\\\\\n\t 6865-JZNKO & 1 & 0 & 1 & 1 & 30 & 2 & 1 & 1 & 3 & 3 & 1 & 1 & 1 & 1 & 1 &  55.30 & 1530.60 & 1\\\\\n\t 6467-CHFZW & 2 & 0 & 2 & 2 & 47 & 2 & 3 & 2 & 1 & 3 & 1 & 1 & 3 & 3 & 1 &  99.35 & 4749.15 & 2\\\\\n\t 8665-UTDHZ & 2 & 0 & 2 & 2 &  1 & 1 & 2 & 1 & 1 & 3 & 1 & 1 & 1 & 1 & 1 &  30.20 &   30.20 & 2\\\\\n\t 5248-YGIJN & 2 & 0 & 2 & 1 & 72 & 2 & 3 & 1 & 3 & 3 & 3 & 3 & 3 & 3 & 3 &  90.25 & 6369.45 & 1\\\\\n\t 8773-HHUOZ & 1 & 0 & 1 & 2 & 17 & 2 & 1 & 1 & 1 & 1 & 1 & 1 & 3 & 3 & 1 &  64.70 & 1093.10 & 2\\\\\n\t ⋮ & ⋮ & ⋮ & ⋮ & ⋮ & ⋮ & ⋮ & ⋮ & ⋮ & ⋮ & ⋮ & ⋮ & ⋮ & ⋮ & ⋮ & ⋮ & ⋮ & ⋮ & ⋮\\\\\n\t 1685-BQULA & 1 & 0 & 1 & 1 & 40 & 2 & 3 & 2 & 1 & 3 & 3 & 1 & 3 & 1 & 1 &  93.40 & 3756.40 & 1\\\\\n\t 9053-EJUNL & 2 & 0 & 1 & 1 & 41 & 2 & 3 & 2 & 1 & 3 & 1 & 1 & 3 & 1 & 1 &  89.20 & 3645.75 & 1\\\\\n\t 0666-UXTJO & 2 & 1 & 2 & 1 & 34 & 2 & 1 & 2 & 1 & 1 & 3 & 1 & 3 & 1 & 1 &  85.20 & 2874.45 & 1\\\\\n\t 1471-GIQKQ & 1 & 0 & 1 & 1 &  1 & 2 & 1 & 1 & 1 & 3 & 1 & 1 & 1 & 1 & 1 &  49.95 &   49.95 & 1\\\\\n\t 4807-IZYOZ & 1 & 0 & 1 & 1 & 51 & 2 & 1 & 3 & 2 & 2 & 2 & 2 & 2 & 2 & 3 &  20.65 & 1020.75 & 1\\\\\n\t 1122-JWTJW & 2 & 0 & 2 & 2 &  1 & 2 & 1 & 2 & 1 & 1 & 1 & 1 & 1 & 1 & 1 &  70.65 &   70.65 & 2\\\\\n\t 9710-NJERN & 1 & 0 & 1 & 1 & 39 & 2 & 1 & 3 & 2 & 2 & 2 & 2 & 2 & 2 & 3 &  20.15 &  826.00 & 1\\\\\n\t 9837-FWLCH & 2 & 0 & 2 & 2 & 12 & 2 & 1 & 3 & 2 & 2 & 2 & 2 & 2 & 2 & 1 &  19.20 &  239.00 & 1\\\\\n\t 1699-HPSBG & 2 & 0 & 1 & 1 & 12 & 2 & 1 & 1 & 1 & 1 & 1 & 3 & 3 & 1 & 2 &  59.80 &  727.80 & 2\\\\\n\t 7203-OYKCT & 2 & 0 & 1 & 1 & 72 & 2 & 3 & 2 & 1 & 3 & 3 & 1 & 3 & 3 & 2 & 104.95 & 7544.30 & 1\\\\\n\t 1035-IPQPU & 1 & 1 & 2 & 1 & 63 & 2 & 3 & 2 & 1 & 3 & 3 & 1 & 3 & 3 & 1 & 103.50 & 6479.40 & 1\\\\\n\t 7398-LXGYX & 2 & 0 & 2 & 1 & 44 & 2 & 3 & 2 & 3 & 1 & 3 & 1 & 1 & 1 & 1 &  84.80 & 3626.35 & 1\\\\\n\t 2823-LKABH & 1 & 0 & 1 & 1 & 18 & 2 & 3 & 2 & 1 & 1 & 3 & 3 & 1 & 3 & 1 &  95.05 & 1679.40 & 1\\\\\n\t 8775-CEBBJ & 1 & 0 & 1 & 1 &  9 & 2 & 1 & 1 & 1 & 1 & 1 & 1 & 1 & 1 & 1 &  44.20 &  403.35 & 2\\\\\n\t 0550-DCXLH & 2 & 0 & 1 & 1 & 13 & 2 & 1 & 1 & 1 & 3 & 1 & 3 & 3 & 3 & 1 &  73.35 &  931.55 & 1\\\\\n\t 9281-CEDRU & 1 & 0 & 2 & 1 & 68 & 2 & 1 & 1 & 1 & 3 & 1 & 3 & 3 & 1 & 3 &  64.10 & 4326.25 & 1\\\\\n\t 2235-DWLJU & 1 & 1 & 1 & 1 &  6 & 1 & 2 & 1 & 1 & 1 & 1 & 1 & 3 & 3 & 1 &  44.40 &  263.05 & 1\\\\\n\t 0871-OPBXW & 1 & 0 & 1 & 1 &  2 & 2 & 1 & 3 & 2 & 2 & 2 & 2 & 2 & 2 & 1 &  20.05 &   39.25 & 1\\\\\n\t 3605-JISKB & 2 & 1 & 2 & 1 & 55 & 2 & 3 & 1 & 3 & 3 & 1 & 1 & 1 & 1 & 2 &  60.00 & 3316.10 & 1\\\\\n\t 6894-LFHLY & 2 & 1 & 1 & 1 &  1 & 2 & 3 & 2 & 1 & 1 & 1 & 1 & 1 & 1 & 1 &  75.75 &   75.75 & 2\\\\\n\t 9767-FFLEM & 2 & 0 & 1 & 1 & 38 & 2 & 1 & 2 & 1 & 1 & 1 & 1 & 1 & 1 & 1 &  69.50 & 2625.25 & 1\\\\\n\t 0639-TSIQW & 1 & 0 & 1 & 1 & 67 & 2 & 3 & 2 & 3 & 3 & 3 & 1 & 3 & 1 & 1 & 102.95 & 6886.25 & 2\\\\\n\t 8456-QDAVC & 2 & 0 & 1 & 1 & 19 & 2 & 1 & 2 & 1 & 1 & 1 & 1 & 3 & 1 & 1 &  78.70 & 1495.10 & 1\\\\\n\t 7750-EYXWZ & 1 & 0 & 1 & 1 & 12 & 1 & 2 & 1 & 1 & 3 & 3 & 3 & 3 & 3 & 2 &  60.65 &  743.30 & 1\\\\\n\t 2569-WGERO & 1 & 0 & 1 & 1 & 72 & 2 & 1 & 3 & 2 & 2 & 2 & 2 & 2 & 2 & 3 &  21.15 & 1419.40 & 1\\\\\n\t 6840-RESVB & 2 & 0 & 2 & 2 & 24 & 2 & 3 & 1 & 3 & 1 & 3 & 3 & 3 & 3 & 2 &  84.80 & 1990.50 & 1\\\\\n\t 2234-XADUH & 1 & 0 & 2 & 2 & 72 & 2 & 3 & 2 & 1 & 3 & 3 & 1 & 3 & 3 & 2 & 103.20 & 7362.90 & 1\\\\\n\t 4801-JZAZL & 1 & 0 & 2 & 2 & 11 & 1 & 2 & 1 & 3 & 1 & 1 & 1 & 1 & 1 & 1 &  29.60 &  346.45 & 1\\\\\n\t 8361-LTMKD & 2 & 1 & 2 & 1 &  4 & 2 & 3 & 2 & 1 & 1 & 1 & 1 & 1 & 1 & 1 &  74.40 &  306.60 & 2\\\\\n\t 3186-AJIEK & 2 & 0 & 1 & 1 & 66 & 2 & 1 & 2 & 3 & 1 & 3 & 3 & 3 & 3 & 3 & 105.65 & 6844.50 & 1\\\\\n\\end{tabular}\n",
            "text/plain": [
              "     customerid gender seniorcitizen partner dependents tenure phoneservice\n",
              "1    7590-VHVEG 1      0             2       1           1     1           \n",
              "2    5575-GNVDE 2      0             1       1          34     2           \n",
              "3    3668-QPYBK 2      0             1       1           2     2           \n",
              "4    7795-CFOCW 2      0             1       1          45     1           \n",
              "5    9237-HQITU 1      0             1       1           2     2           \n",
              "6    9305-CDSKC 1      0             1       1           8     2           \n",
              "7    1452-KIOVK 2      0             1       2          22     2           \n",
              "8    6713-OKOMC 1      0             1       1          10     1           \n",
              "9    7892-POOKP 1      0             2       1          28     2           \n",
              "10   6388-TABGU 2      0             1       2          62     2           \n",
              "11   9763-GRSKD 2      0             2       2          13     2           \n",
              "12   7469-LKBCI 2      0             1       1          16     2           \n",
              "13   8091-TTVAX 2      0             2       1          58     2           \n",
              "14   0280-XJGEX 2      0             1       1          49     2           \n",
              "15   5129-JLPIS 2      0             1       1          25     2           \n",
              "16   3655-SNQYZ 1      0             2       2          69     2           \n",
              "17   8191-XWSZG 1      0             1       1          52     2           \n",
              "18   9959-WOFKT 2      0             1       2          71     2           \n",
              "19   4190-MFLUW 1      0             2       2          10     2           \n",
              "20   4183-MYFRB 1      0             1       1          21     2           \n",
              "21   8779-QRDMV 2      1             1       1           1     1           \n",
              "22   1680-VDCWW 2      0             2       1          12     2           \n",
              "23   1066-JKSGK 2      0             1       1           1     2           \n",
              "24   3638-WEABW 1      0             2       1          58     2           \n",
              "25   6322-HRPFA 2      0             2       2          49     2           \n",
              "26   6865-JZNKO 1      0             1       1          30     2           \n",
              "27   6467-CHFZW 2      0             2       2          47     2           \n",
              "28   8665-UTDHZ 2      0             2       2           1     1           \n",
              "29   5248-YGIJN 2      0             2       1          72     2           \n",
              "30   8773-HHUOZ 1      0             1       2          17     2           \n",
              "⋮    ⋮          ⋮      ⋮             ⋮       ⋮          ⋮      ⋮           \n",
              "6974 1685-BQULA 1      0             1       1          40     2           \n",
              "6975 9053-EJUNL 2      0             1       1          41     2           \n",
              "6976 0666-UXTJO 2      1             2       1          34     2           \n",
              "6977 1471-GIQKQ 1      0             1       1           1     2           \n",
              "6978 4807-IZYOZ 1      0             1       1          51     2           \n",
              "6979 1122-JWTJW 2      0             2       2           1     2           \n",
              "6980 9710-NJERN 1      0             1       1          39     2           \n",
              "6981 9837-FWLCH 2      0             2       2          12     2           \n",
              "6982 1699-HPSBG 2      0             1       1          12     2           \n",
              "6983 7203-OYKCT 2      0             1       1          72     2           \n",
              "6984 1035-IPQPU 1      1             2       1          63     2           \n",
              "6985 7398-LXGYX 2      0             2       1          44     2           \n",
              "6986 2823-LKABH 1      0             1       1          18     2           \n",
              "6987 8775-CEBBJ 1      0             1       1           9     2           \n",
              "6988 0550-DCXLH 2      0             1       1          13     2           \n",
              "6989 9281-CEDRU 1      0             2       1          68     2           \n",
              "6990 2235-DWLJU 1      1             1       1           6     1           \n",
              "6991 0871-OPBXW 1      0             1       1           2     2           \n",
              "6992 3605-JISKB 2      1             2       1          55     2           \n",
              "6993 6894-LFHLY 2      1             1       1           1     2           \n",
              "6994 9767-FFLEM 2      0             1       1          38     2           \n",
              "6995 0639-TSIQW 1      0             1       1          67     2           \n",
              "6996 8456-QDAVC 2      0             1       1          19     2           \n",
              "6997 7750-EYXWZ 1      0             1       1          12     1           \n",
              "6998 2569-WGERO 1      0             1       1          72     2           \n",
              "6999 6840-RESVB 2      0             2       2          24     2           \n",
              "7000 2234-XADUH 1      0             2       2          72     2           \n",
              "7001 4801-JZAZL 1      0             2       2          11     1           \n",
              "7002 8361-LTMKD 2      1             2       1           4     2           \n",
              "7003 3186-AJIEK 2      0             1       1          66     2           \n",
              "     multiplelines internetservice onlinesecurity onlinebackup deviceprotection\n",
              "1    2             1               1              3            1               \n",
              "2    1             1               3              1            3               \n",
              "3    1             1               3              3            1               \n",
              "4    2             1               3              1            3               \n",
              "5    1             2               1              1            1               \n",
              "6    3             2               1              1            3               \n",
              "7    3             2               1              3            1               \n",
              "8    2             1               3              1            1               \n",
              "9    3             2               1              1            3               \n",
              "10   1             1               3              3            1               \n",
              "11   1             1               3              1            1               \n",
              "12   1             3               2              2            2               \n",
              "13   3             2               1              1            3               \n",
              "14   3             2               1              3            3               \n",
              "15   1             2               3              1            3               \n",
              "16   3             2               3              3            3               \n",
              "17   1             3               2              2            2               \n",
              "18   3             2               3              1            3               \n",
              "19   1             1               1              1            3               \n",
              "20   1             2               1              3            3               \n",
              "21   2             1               1              1            3               \n",
              "22   1             3               2              2            2               \n",
              "23   1             3               2              2            2               \n",
              "24   3             1               1              3            1               \n",
              "25   1             1               3              3            1               \n",
              "26   1             1               3              3            1               \n",
              "27   3             2               1              3            1               \n",
              "28   2             1               1              3            1               \n",
              "29   3             1               3              3            3               \n",
              "30   1             1               1              1            1               \n",
              "⋮    ⋮             ⋮               ⋮              ⋮            ⋮               \n",
              "6974 3             2               1              3            3               \n",
              "6975 3             2               1              3            1               \n",
              "6976 1             2               1              1            3               \n",
              "6977 1             1               1              3            1               \n",
              "6978 1             3               2              2            2               \n",
              "6979 1             2               1              1            1               \n",
              "6980 1             3               2              2            2               \n",
              "6981 1             3               2              2            2               \n",
              "6982 1             1               1              1            1               \n",
              "6983 3             2               1              3            3               \n",
              "6984 3             2               1              3            3               \n",
              "6985 3             2               3              1            3               \n",
              "6986 3             2               1              1            3               \n",
              "6987 1             1               1              1            1               \n",
              "6988 1             1               1              3            1               \n",
              "6989 1             1               1              3            1               \n",
              "6990 2             1               1              1            1               \n",
              "6991 1             3               2              2            2               \n",
              "6992 3             1               3              3            1               \n",
              "6993 3             2               1              1            1               \n",
              "6994 1             2               1              1            1               \n",
              "6995 3             2               3              3            3               \n",
              "6996 1             2               1              1            1               \n",
              "6997 2             1               1              3            3               \n",
              "6998 1             3               2              2            2               \n",
              "6999 3             1               3              1            3               \n",
              "7000 3             2               1              3            3               \n",
              "7001 2             1               3              1            1               \n",
              "7002 3             2               1              1            1               \n",
              "7003 1             2               3              1            3               \n",
              "     techsupport streamingtv streamingmovies contract monthlycharges\n",
              "1    1           1           1               1         29.85        \n",
              "2    1           1           1               2         56.95        \n",
              "3    1           1           1               1         53.85        \n",
              "4    3           1           1               2         42.30        \n",
              "5    1           1           1               1         70.70        \n",
              "6    1           3           3               1         99.65        \n",
              "7    1           3           1               1         89.10        \n",
              "8    1           1           1               1         29.75        \n",
              "9    3           3           3               1        104.80        \n",
              "10   1           1           1               2         56.15        \n",
              "11   1           1           1               1         49.95        \n",
              "12   2           2           2               3         18.95        \n",
              "13   1           3           3               2        100.35        \n",
              "14   1           3           3               1        103.70        \n",
              "15   3           3           3               1        105.50        \n",
              "16   3           3           3               3        113.25        \n",
              "17   2           2           2               2         20.65        \n",
              "18   1           3           3               3        106.70        \n",
              "19   3           1           1               1         55.20        \n",
              "20   1           1           3               1         90.05        \n",
              "21   1           1           3               1         39.65        \n",
              "22   2           2           2               2         19.80        \n",
              "23   2           2           2               1         20.15        \n",
              "24   3           1           1               3         59.90        \n",
              "25   3           1           1               1         59.60        \n",
              "26   1           1           1               1         55.30        \n",
              "27   1           3           3               1         99.35        \n",
              "28   1           1           1               1         30.20        \n",
              "29   3           3           3               3         90.25        \n",
              "30   1           3           3               1         64.70        \n",
              "⋮    ⋮           ⋮           ⋮               ⋮        ⋮             \n",
              "6974 1           3           1               1         93.40        \n",
              "6975 1           3           1               1         89.20        \n",
              "6976 1           3           1               1         85.20        \n",
              "6977 1           1           1               1         49.95        \n",
              "6978 2           2           2               3         20.65        \n",
              "6979 1           1           1               1         70.65        \n",
              "6980 2           2           2               3         20.15        \n",
              "6981 2           2           2               1         19.20        \n",
              "6982 3           3           1               2         59.80        \n",
              "6983 1           3           3               2        104.95        \n",
              "6984 1           3           3               1        103.50        \n",
              "6985 1           1           1               1         84.80        \n",
              "6986 3           1           3               1         95.05        \n",
              "6987 1           1           1               1         44.20        \n",
              "6988 3           3           3               1         73.35        \n",
              "6989 3           3           1               3         64.10        \n",
              "6990 1           3           3               1         44.40        \n",
              "6991 2           2           2               1         20.05        \n",
              "6992 1           1           1               2         60.00        \n",
              "6993 1           1           1               1         75.75        \n",
              "6994 1           1           1               1         69.50        \n",
              "6995 1           3           1               1        102.95        \n",
              "6996 1           3           1               1         78.70        \n",
              "6997 3           3           3               2         60.65        \n",
              "6998 2           2           2               3         21.15        \n",
              "6999 3           3           3               2         84.80        \n",
              "7000 1           3           3               2        103.20        \n",
              "7001 1           1           1               1         29.60        \n",
              "7002 1           1           1               1         74.40        \n",
              "7003 3           3           3               3        105.65        \n",
              "     totalcharges churn\n",
              "1      29.85      1    \n",
              "2    1889.50      1    \n",
              "3     108.15      2    \n",
              "4    1840.75      1    \n",
              "5     151.65      2    \n",
              "6     820.50      2    \n",
              "7    1949.40      1    \n",
              "8     301.90      1    \n",
              "9    3046.05      2    \n",
              "10   3487.95      1    \n",
              "11    587.45      1    \n",
              "12    326.80      1    \n",
              "13   5681.10      1    \n",
              "14   5036.30      2    \n",
              "15   2686.05      1    \n",
              "16   7895.15      1    \n",
              "17   1022.95      1    \n",
              "18   7382.25      1    \n",
              "19    528.35      2    \n",
              "20   1862.90      1    \n",
              "21     39.65      2    \n",
              "22    202.25      1    \n",
              "23     20.15      2    \n",
              "24   3505.10      1    \n",
              "25   2970.30      1    \n",
              "26   1530.60      1    \n",
              "27   4749.15      2    \n",
              "28     30.20      2    \n",
              "29   6369.45      1    \n",
              "30   1093.10      2    \n",
              "⋮    ⋮            ⋮    \n",
              "6974 3756.40      1    \n",
              "6975 3645.75      1    \n",
              "6976 2874.45      1    \n",
              "6977   49.95      1    \n",
              "6978 1020.75      1    \n",
              "6979   70.65      2    \n",
              "6980  826.00      1    \n",
              "6981  239.00      1    \n",
              "6982  727.80      2    \n",
              "6983 7544.30      1    \n",
              "6984 6479.40      1    \n",
              "6985 3626.35      1    \n",
              "6986 1679.40      1    \n",
              "6987  403.35      2    \n",
              "6988  931.55      1    \n",
              "6989 4326.25      1    \n",
              "6990  263.05      1    \n",
              "6991   39.25      1    \n",
              "6992 3316.10      1    \n",
              "6993   75.75      2    \n",
              "6994 2625.25      1    \n",
              "6995 6886.25      2    \n",
              "6996 1495.10      1    \n",
              "6997  743.30      1    \n",
              "6998 1419.40      1    \n",
              "6999 1990.50      1    \n",
              "7000 7362.90      1    \n",
              "7001  346.45      1    \n",
              "7002  306.60      2    \n",
              "7003 6844.50      1    "
            ]
          },
          "metadata": {}
        }
      ]
    },
    {
      "cell_type": "code",
      "source": [
        "# We will exclude churn and customerid columns\n",
        "cols <- c(names(clean_df))\n",
        "cols <- cols[-19]\n",
        "cols <- cols[-1]\n",
        "cols\n",
        "\n",
        "# Use BoxPlot to detect outliers in the numeric/continuous data columns\n",
        "boxplot(clean_df[,cols])"
      ],
      "metadata": {
        "colab": {
          "base_uri": "https://localhost:8080/",
          "height": 472
        },
        "id": "XBE4ibA0XEhV",
        "outputId": "d0af6741-4b07-40a7-bd37-d86111f4123a"
      },
      "execution_count": null,
      "outputs": [
        {
          "output_type": "display_data",
          "data": {
            "text/html": [
              "<style>\n",
              ".list-inline {list-style: none; margin:0; padding: 0}\n",
              ".list-inline>li {display: inline-block}\n",
              ".list-inline>li:not(:last-child)::after {content: \"\\00b7\"; padding: 0 .5ex}\n",
              "</style>\n",
              "<ol class=list-inline><li>'gender'</li><li>'seniorcitizen'</li><li>'partner'</li><li>'dependents'</li><li>'tenure'</li><li>'phoneservice'</li><li>'multiplelines'</li><li>'internetservice'</li><li>'onlinesecurity'</li><li>'onlinebackup'</li><li>'deviceprotection'</li><li>'techsupport'</li><li>'streamingtv'</li><li>'streamingmovies'</li><li>'contract'</li><li>'monthlycharges'</li><li>'totalcharges'</li></ol>\n"
            ],
            "text/markdown": "1. 'gender'\n2. 'seniorcitizen'\n3. 'partner'\n4. 'dependents'\n5. 'tenure'\n6. 'phoneservice'\n7. 'multiplelines'\n8. 'internetservice'\n9. 'onlinesecurity'\n10. 'onlinebackup'\n11. 'deviceprotection'\n12. 'techsupport'\n13. 'streamingtv'\n14. 'streamingmovies'\n15. 'contract'\n16. 'monthlycharges'\n17. 'totalcharges'\n\n\n",
            "text/latex": "\\begin{enumerate*}\n\\item 'gender'\n\\item 'seniorcitizen'\n\\item 'partner'\n\\item 'dependents'\n\\item 'tenure'\n\\item 'phoneservice'\n\\item 'multiplelines'\n\\item 'internetservice'\n\\item 'onlinesecurity'\n\\item 'onlinebackup'\n\\item 'deviceprotection'\n\\item 'techsupport'\n\\item 'streamingtv'\n\\item 'streamingmovies'\n\\item 'contract'\n\\item 'monthlycharges'\n\\item 'totalcharges'\n\\end{enumerate*}\n",
            "text/plain": [
              " [1] \"gender\"           \"seniorcitizen\"    \"partner\"          \"dependents\"      \n",
              " [5] \"tenure\"           \"phoneservice\"     \"multiplelines\"    \"internetservice\" \n",
              " [9] \"onlinesecurity\"   \"onlinebackup\"     \"deviceprotection\" \"techsupport\"     \n",
              "[13] \"streamingtv\"      \"streamingmovies\"  \"contract\"         \"monthlycharges\"  \n",
              "[17] \"totalcharges\"    "
            ]
          },
          "metadata": {}
        },
        {
          "output_type": "display_data",
          "data": {
            "text/plain": [
              "plot without title"
            ],
            "image/png": "[encoded data removed]"
          },
          "metadata": {
            "image/png": {
              "width": 420,
              "height": 420
            }
          }
        }
      ]
    },
    {
      "cell_type": "markdown",
      "source": [
        "**Observation**: our dataset has outliers\n"
      ],
      "metadata": {
        "id": "4KBkNbU6XQZW"
      }
    },
    {
      "cell_type": "code",
      "source": [
        "# Let's create 2 helper functions, one to detect outliers and another to remove outlier\n",
        "detect_outlier <- function(x) {\n",
        "  # calculate first quantile\n",
        "  Q1 <- quantile(x, probs=.25)\n",
        "   \n",
        "  # calculate third quantile\n",
        "  Q3 <- quantile(x, probs=.75)\n",
        "   \n",
        "  # calculate interquartile range\n",
        "  IQR = Q3 - Q1\n",
        "   \n",
        "  # if an observation is greater than 1.5 times the third quantile or less than 1.5 times the first quantile, it returns true.\n",
        "  x > Q3 + (IQR*1.5) | x < Q1 - (IQR*1.5)\n",
        "}"
      ],
      "metadata": {
        "id": "dp-wMSHpXIpH"
      },
      "execution_count": null,
      "outputs": []
    },
    {
      "cell_type": "code",
      "source": [
        "remove_outliers <- function(dataframe, columns=names(dataframe)) {\n",
        "  # for loop to traverse in columns vector\n",
        "  for (col in columns) {\n",
        "    # remove observation if it satisfies outlier function\n",
        "    dataframe <- dataframe[!detect_outlier(dataframe[[col]]), ]\n",
        "  }\n",
        "   \n",
        "  # return dataframe\n",
        "  return(dataframe)\n",
        "}"
      ],
      "metadata": {
        "id": "p_8h2bH-XOHH"
      },
      "execution_count": null,
      "outputs": []
    },
    {
      "cell_type": "code",
      "source": [
        "print(\"Shape before removing outliers\")\n",
        "print(dim(clean_df))\n",
        "\n",
        "cols <- names(clean_df)\n",
        "cols <- cols[-19]\n",
        "cols <- cols[-1]\n",
        "\n",
        "df_without_outliers <- remove_outliers(clean_df, cols)\n",
        "\n",
        "print(\"Shape after removing outliers\")\n",
        "print(dim(df_without_outliers))"
      ],
      "metadata": {
        "colab": {
          "base_uri": "https://localhost:8080/"
        },
        "id": "rMp8HhMlXgfr",
        "outputId": "4ce0ad78-d374-407f-bfeb-973c0e566460"
      },
      "execution_count": null,
      "outputs": [
        {
          "output_type": "stream",
          "name": "stdout",
          "text": [
            "[1] \"Shape before removing outliers\"\n",
            "[1] 7003   19\n",
            "[1] \"Shape after removing outliers\"\n",
            "[1] 5283   19\n"
          ]
        }
      ]
    },
    {
      "cell_type": "code",
      "source": [
        "# Let's confirm that our new dataset doesn't have outliers\n",
        "cols <- c(names(df_without_outliers))\n",
        "cols <- cols[-19]\n",
        "cols <- cols[-1]\n",
        "cols\n",
        "\n",
        "# Use BoxPlot to detect outliers in the numeric/continuous data columns\n",
        "boxplot(df_without_outliers[,cols])"
      ],
      "metadata": {
        "colab": {
          "base_uri": "https://localhost:8080/",
          "height": 472
        },
        "id": "oS1Vr_rCXi8O",
        "outputId": "e2efde3b-0d5d-4225-cc49-3eee27fc71f0"
      },
      "execution_count": null,
      "outputs": [
        {
          "output_type": "display_data",
          "data": {
            "text/html": [
              "<style>\n",
              ".list-inline {list-style: none; margin:0; padding: 0}\n",
              ".list-inline>li {display: inline-block}\n",
              ".list-inline>li:not(:last-child)::after {content: \"\\00b7\"; padding: 0 .5ex}\n",
              "</style>\n",
              "<ol class=list-inline><li>'gender'</li><li>'seniorcitizen'</li><li>'partner'</li><li>'dependents'</li><li>'tenure'</li><li>'phoneservice'</li><li>'multiplelines'</li><li>'internetservice'</li><li>'onlinesecurity'</li><li>'onlinebackup'</li><li>'deviceprotection'</li><li>'techsupport'</li><li>'streamingtv'</li><li>'streamingmovies'</li><li>'contract'</li><li>'monthlycharges'</li><li>'totalcharges'</li></ol>\n"
            ],
            "text/markdown": "1. 'gender'\n2. 'seniorcitizen'\n3. 'partner'\n4. 'dependents'\n5. 'tenure'\n6. 'phoneservice'\n7. 'multiplelines'\n8. 'internetservice'\n9. 'onlinesecurity'\n10. 'onlinebackup'\n11. 'deviceprotection'\n12. 'techsupport'\n13. 'streamingtv'\n14. 'streamingmovies'\n15. 'contract'\n16. 'monthlycharges'\n17. 'totalcharges'\n\n\n",
            "text/latex": "\\begin{enumerate*}\n\\item 'gender'\n\\item 'seniorcitizen'\n\\item 'partner'\n\\item 'dependents'\n\\item 'tenure'\n\\item 'phoneservice'\n\\item 'multiplelines'\n\\item 'internetservice'\n\\item 'onlinesecurity'\n\\item 'onlinebackup'\n\\item 'deviceprotection'\n\\item 'techsupport'\n\\item 'streamingtv'\n\\item 'streamingmovies'\n\\item 'contract'\n\\item 'monthlycharges'\n\\item 'totalcharges'\n\\end{enumerate*}\n",
            "text/plain": [
              " [1] \"gender\"           \"seniorcitizen\"    \"partner\"          \"dependents\"      \n",
              " [5] \"tenure\"           \"phoneservice\"     \"multiplelines\"    \"internetservice\" \n",
              " [9] \"onlinesecurity\"   \"onlinebackup\"     \"deviceprotection\" \"techsupport\"     \n",
              "[13] \"streamingtv\"      \"streamingmovies\"  \"contract\"         \"monthlycharges\"  \n",
              "[17] \"totalcharges\"    "
            ]
          },
          "metadata": {}
        },
        {
          "output_type": "display_data",
          "data": {
            "text/plain": [
              "plot without title"
            ],
            "image/png": "[encoded data removed]"
          },
          "metadata": {
            "image/png": {
              "width": 420,
              "height": 420
            }
          }
        }
      ]
    },
    {
      "cell_type": "markdown",
      "source": [
        "\n",
        "Observation: all outliers are gone"
      ],
      "metadata": {
        "id": "PeRU-fd2XoYt"
      }
    },
    {
      "cell_type": "code",
      "source": [],
      "metadata": {
        "id": "7tl9apNSXmQ7"
      },
      "execution_count": null,
      "outputs": []
    }
  ]
}